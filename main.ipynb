{
 "cells": [
  {
   "cell_type": "code",
   "execution_count": 1,
   "metadata": {},
   "outputs": [],
   "source": [
    "import matplotlib.pyplot as plt\n",
    "from pyspark.sql import SparkSession\n",
    "from pyspark.sql.functions import col, sum, count, lit\n",
    "from pyspark.sql.types import StructType, StructField, StringType, TimestampType, BooleanType, DoubleType, IntegerType, DateType"
   ]
  },
  {
   "cell_type": "code",
   "execution_count": 2,
   "metadata": {},
   "outputs": [
    {
     "data": {
      "text/html": [
       "\n",
       "            <div>\n",
       "                <p><b>SparkSession - in-memory</b></p>\n",
       "                \n",
       "        <div>\n",
       "            <p><b>SparkContext</b></p>\n",
       "\n",
       "            <p><a href=\"http://DESKTOP-R29B0D0:4040\">Spark UI</a></p>\n",
       "\n",
       "            <dl>\n",
       "              <dt>Version</dt>\n",
       "                <dd><code>v3.5.0</code></dd>\n",
       "              <dt>Master</dt>\n",
       "                <dd><code>local[*]</code></dd>\n",
       "              <dt>AppName</dt>\n",
       "                <dd><code>BreweryApp</code></dd>\n",
       "            </dl>\n",
       "        </div>\n",
       "        \n",
       "            </div>\n",
       "        "
      ],
      "text/plain": [
       "<pyspark.sql.session.SparkSession at 0x177e6cc9b50>"
      ]
     },
     "execution_count": 2,
     "metadata": {},
     "output_type": "execute_result"
    }
   ],
   "source": [
    "spark = SparkSession.builder.appName(\"BreweryApp\").getOrCreate()\n",
    "spark"
   ]
  },
  {
   "cell_type": "code",
   "execution_count": 3,
   "metadata": {},
   "outputs": [],
   "source": [
    "product_range_path = './craft_beer_bar_sales/Product_range.csv'\n",
    "transactions_path = './craft_beer_bar_sales/Transactions.csv'"
   ]
  },
  {
   "cell_type": "markdown",
   "metadata": {},
   "source": [
    "# Product"
   ]
  },
  {
   "cell_type": "code",
   "execution_count": 4,
   "metadata": {},
   "outputs": [
    {
     "name": "stdout",
     "output_type": "stream",
     "text": [
      "+------------+-----------+-----------------------------------------------+------------+---------+-----------------+-----+----+\n",
      "|Product_code|Vendor_code|Name                                           |Retail_price|Base_unit|Country_of_Origin|Size |ABV |\n",
      "+------------+-----------+-----------------------------------------------+------------+---------+-----------------+-----+----+\n",
      "|5028        |NULL       |1 Symbiotica Apple 0.375                       |300.0       |Pieces   |Russia           |0.375|4.5 |\n",
      "|4846        |NULL       |1 Symbiotica Hard Kombucha Renegade Aronia 0.33|200.0       |Pieces   |Russia           |0.33 |3.0 |\n",
      "|1340        |NULL       |1000 IBU Imperial IPA Barrel l                 |960.0       |Liters   |NULL             |1.0  |9.6 |\n",
      "|4372        |NULL       |18th Street Brewery                            |NULL        |NULL     |USA              |NULL |NULL|\n",
      "|4302        |NULL       |18th Street Brewery Deal With The Devil 0.473  |630.0       |Pieces   |USA              |0.473|8.5 |\n",
      "|4304        |NULL       |18th Street Brewery Pins And Needles 0.473     |630.0       |Pieces   |USA              |0.473|8.5 |\n",
      "|4300        |NULL       |18th Street Brewery Rise Of The Angels 0.473   |520.0       |Pieces   |USA              |0.473|7.5 |\n",
      "|4775        |NULL       |18th Street Brewery Rubicon 0.473              |480.0       |Pieces   |USA              |0.473|7.0 |\n",
      "|4301        |NULL       |18th Street Brewery Sex and Candy 0.473        |480.0       |Pieces   |USA              |0.473|7.5 |\n",
      "|4303        |NULL       |18th Street Brewery Under Crown 0.473          |640.0       |Pieces   |USA              |0.473|8.8 |\n",
      "+------------+-----------+-----------------------------------------------+------------+---------+-----------------+-----+----+\n",
      "only showing top 10 rows\n",
      "\n"
     ]
    }
   ],
   "source": [
    "product_df = spark.read.csv(product_range_path, header=True)\n",
    "product_df.show(10, truncate = False)"
   ]
  },
  {
   "cell_type": "code",
   "execution_count": 5,
   "metadata": {},
   "outputs": [
    {
     "name": "stdout",
     "output_type": "stream",
     "text": [
      "+-------+------------------+-----------+--------------------+-----------------+---------+-----------------+------------------+------------------+\n",
      "|summary|      Product_code|Vendor_code|                Name|     Retail_price|Base_unit|Country_of_Origin|              Size|               ABV|\n",
      "+-------+------------------+-----------+--------------------+-----------------+---------+-----------------+------------------+------------------+\n",
      "|  count|              5314|       4288|                5314|             4878|     4910|             4205|              4626|              4622|\n",
      "|   mean|2690.8447497177267|       NULL|                NULL|637.8395018450183|     NULL|             NULL|0.6269174232598252|7.0742730419731865|\n",
      "| stddev|1543.2178144494967|       NULL|                NULL|504.8950056344766|     NULL|             NULL|0.9532897768176336|2.4579696462642713|\n",
      "|    min|                10|        35K|1 Symbiotica Appl...|              1.0|     100g|              ???|              0.15|               0.5|\n",
      "|    max|               999|de Blaugies|               zavod|            990.0|   Pieces|   United Kingdom|              30.0|               9.9|\n",
      "+-------+------------------+-----------+--------------------+-----------------+---------+-----------------+------------------+------------------+\n",
      "\n"
     ]
    }
   ],
   "source": [
    "product_df.describe().show()"
   ]
  },
  {
   "cell_type": "code",
   "execution_count": 6,
   "metadata": {},
   "outputs": [
    {
     "name": "stdout",
     "output_type": "stream",
     "text": [
      "Count Distinct Product_code: 5314\n",
      "Count Distinct Vendor_code: 272\n",
      "Count Distinct Name: 5193\n",
      "Count Distinct Retail_price: 185\n",
      "Count Distinct Base_unit: 5\n",
      "Count Distinct Country_of_Origin: 29\n",
      "Count Distinct Size: 32\n",
      "Count Distinct ABV: 152\n"
     ]
    }
   ],
   "source": [
    "for column in product_df.columns:\n",
    "    col_cnt = product_df.select(column).distinct().count()\n",
    "    print(f\"Count Distinct {column}: {col_cnt}\")"
   ]
  },
  {
   "cell_type": "code",
   "execution_count": 7,
   "metadata": {},
   "outputs": [
    {
     "data": {
      "image/png": "[encoded data removed]",
      "text/plain": [
       "<Figure size 640x480 with 1 Axes>"
      ]
     },
     "metadata": {},
     "output_type": "display_data"
    }
   ],
   "source": [
    "not_null_counts = product_df.select([sum((~col(c).isNull()).cast(\"int\")).alias(c) for c in product_df.columns])\n",
    "not_null_counts_pandas = not_null_counts.toPandas().transpose()\n",
    "ax = not_null_counts_pandas.plot(kind=\"bar\", stacked=True, legend=False, colormap=\"plasma\")\n",
    "plt.title(\"Product Value Counts in Columns\")\n",
    "plt.xlabel(\"Columns\")\n",
    "plt.ylabel(\"Number of Null Values\")\n",
    "plt.axhline(y=product_df.count(), color='red', linestyle='--', label='Upper Limit')\n",
    "plt.show()"
   ]
  },
  {
   "cell_type": "markdown",
   "metadata": {},
   "source": [
    "# Transactions"
   ]
  },
  {
   "cell_type": "code",
   "execution_count": 8,
   "metadata": {},
   "outputs": [
    {
     "name": "stdout",
     "output_type": "stream",
     "text": [
      "+--------------------------+------------+------+-----------+---------------+------+-----------------+-------------------+\n",
      "|Date_and_time_of_unloading|Product_code|Amount|Sale_amount|Discount_amount|Profit|Percentage_markup|Discount_percentage|\n",
      "+--------------------------+------------+------+-----------+---------------+------+-----------------+-------------------+\n",
      "|2020-01-01 23:00:00       |144         |1.0   |280.0      |NULL           |155.0 |124.0            |NULL               |\n",
      "|2020-01-01 23:00:00       |209         |2.0   |545.73     |294.27         |75.73 |16.11            |35.03              |\n",
      "|2020-01-01 23:00:00       |213         |2.0   |1265.05    |34.95          |653.05|106.71           |2.69               |\n",
      "|2020-01-01 23:00:00       |217         |1.0   |630.0      |70.0           |220.5 |53.85            |10.0               |\n",
      "|2020-01-01 23:00:00       |222         |2.0   |1104.75    |195.25         |393.75|55.38            |15.02              |\n",
      "|2020-01-01 23:00:00       |243         |1.0   |292.36     |157.64         |1.36  |0.47             |35.03              |\n",
      "|2020-01-01 23:00:00       |258         |1.0   |559.55     |240.45         |93.55 |20.08            |30.06              |\n",
      "|2020-01-01 23:00:00       |270         |2.0   |497.82     |242.18         |35.82 |7.75             |32.73              |\n",
      "|2020-01-01 23:00:00       |271         |1.0   |324.84     |175.16         |53.84 |19.87            |35.03              |\n",
      "|2020-01-01 23:00:00       |282         |1.0   |423.0      |47.0           |252.0 |147.37           |10.0               |\n",
      "+--------------------------+------------+------+-----------+---------------+------+-----------------+-------------------+\n",
      "only showing top 10 rows\n",
      "\n"
     ]
    }
   ],
   "source": [
    "transaction_df = spark.read.csv(transactions_path, header=True)\n",
    "transaction_df.show(10, truncate = False)"
   ]
  },
  {
   "cell_type": "code",
   "execution_count": 9,
   "metadata": {},
   "outputs": [
    {
     "name": "stdout",
     "output_type": "stream",
     "text": [
      "+-------+--------------------------+------------------+------------------+------------------+------------------+------------------+------------------+-------------------+\n",
      "|summary|Date_and_time_of_unloading|      Product_code|            Amount|       Sale_amount|   Discount_amount|            Profit| Percentage_markup|Discount_percentage|\n",
      "+-------+--------------------------+------------------+------------------+------------------+------------------+------------------+------------------+-------------------+\n",
      "|  count|                     50084|             50084|             50084|             50033|             39882|             50070|             48145|              39882|\n",
      "|   mean|                      NULL| 2153.160031147672|3.5531462542927743|1429.7866767933122|243.76132290256055| 705.9019868184575|109.18451116419139|  17.25131287297584|\n",
      "| stddev|                      NULL|1367.3577054997945| 5.485805401475245| 2419.585454701753|  405.902060386317|1352.6286110631174|1182.5387533023177|  16.60807520389805|\n",
      "|    min|       2020-01-01 23:00:00|               101|             0.033|              0.41|              0.01|             -0.12|             -0.01|                0.0|\n",
      "|    max|       2022-09-18 15:00:00|                99|              98.0|           9997.49|            999.58|           9997.49|             99.99|              99.91|\n",
      "+-------+--------------------------+------------------+------------------+------------------+------------------+------------------+------------------+-------------------+\n",
      "\n"
     ]
    }
   ],
   "source": [
    "transaction_df.describe().show()"
   ]
  },
  {
   "cell_type": "code",
   "execution_count": 10,
   "metadata": {},
   "outputs": [
    {
     "name": "stdout",
     "output_type": "stream",
     "text": [
      "Count Distinct Date_and_time_of_unloading: 458\n",
      "Count Distinct Product_code: 3956\n",
      "Count Distinct Amount: 617\n",
      "Count Distinct Sale_amount: 22573\n",
      "Count Distinct Discount_amount: 17844\n",
      "Count Distinct Profit: 27942\n",
      "Count Distinct Percentage_markup: 13926\n",
      "Count Distinct Discount_percentage: 3630\n"
     ]
    }
   ],
   "source": [
    "for column in transaction_df.columns:\n",
    "    col_cnt = transaction_df.select(column).distinct().count()\n",
    "    print(f\"Count Distinct {column}: {col_cnt}\")"
   ]
  },
  {
   "cell_type": "code",
   "execution_count": 11,
   "metadata": {},
   "outputs": [
    {
     "data": {
      "image/png": "[encoded data removed]",
      "text/plain": [
       "<Figure size 640x480 with 1 Axes>"
      ]
     },
     "metadata": {},
     "output_type": "display_data"
    }
   ],
   "source": [
    "not_null_counts = transaction_df.select([sum((~col(c).isNull()).cast(\"int\")).alias(c) for c in transaction_df.columns])\n",
    "not_null_counts_pandas = not_null_counts.toPandas().transpose()\n",
    "ax = not_null_counts_pandas.plot(kind=\"bar\", stacked=True, legend=False, colormap=\"plasma\")\n",
    "plt.title(\"Transactions Value Counts in Columns\")\n",
    "plt.xlabel(\"Columns\")\n",
    "plt.ylabel(\"Number of Null Values\")\n",
    "plt.axhline(y=transaction_df.count(), color='red', linestyle='--', label='Upper Limit')\n",
    "plt.show()"
   ]
  },
  {
   "cell_type": "markdown",
   "metadata": {},
   "source": [
    "# Sales"
   ]
  },
  {
   "cell_type": "code",
   "execution_count": 12,
   "metadata": {},
   "outputs": [
    {
     "name": "stdout",
     "output_type": "stream",
     "text": [
      "+--------------------------+------------+----------------+--------------------+------------+---------+-----------------+-----+----+------+-----------+---------------+------+-----------------+-------------------+\n",
      "|Date_and_time_of_unloading|Product_code|     Vendor_code|                Name|Retail_price|Base_unit|Country_of_Origin| Size| ABV|Amount|Sale_amount|Discount_amount|Profit|Percentage_markup|Discount_percentage|\n",
      "+--------------------------+------------+----------------+--------------------+------------+---------+-----------------+-----+----+------+-----------+---------------+------+-----------------+-------------------+\n",
      "|       2020-01-01 23:00:00|         144|         AF Brew|AF Brew Zimnjaja ...|       280.0|   Pieces|           Russia| 0.33|10.3|   1.0|      280.0|           NULL| 155.0|            124.0|               NULL|\n",
      "|       2020-01-01 23:00:00|         209|         Pohjala|Pohjala Mutant Di...|       420.0|   Pieces|          Estonia| 0.33| 6.8|   2.0|     545.73|         294.27| 75.73|            16.11|              35.03|\n",
      "|       2020-01-01 23:00:00|         213|         Kerisac|Cider Kerisac Cid...|       650.0|   Pieces|           France|  1.0| 6.0|   2.0|    1265.05|          34.95|653.05|           106.71|               2.69|\n",
      "|       2020-01-01 23:00:00|         217|          Savoie|Cider Savoie Cidr...|       870.0|   Pieces|           France| 0.75| 4.5|   1.0|      630.0|           70.0| 220.5|            53.85|               10.0|\n",
      "|       2020-01-01 23:00:00|         222|          Bellot|Cider Bellot Cidr...|       770.0|   Pieces|           France| 0.75| 5.0|   2.0|    1104.75|         195.25|393.75|            55.38|              15.02|\n",
      "|       2020-01-01 23:00:00|         243|            Boon|Boon Oude Geuze /...|       540.0|   Pieces|          Belgium|0.375| 7.0|   1.0|     292.36|         157.64|  1.36|             0.47|              35.03|\n",
      "|       2020-01-01 23:00:00|         258|       Verhaeghe|Verhaeghe Duchess...|       900.0|   Pieces|          Belgium| 0.75| 6.2|   1.0|     559.55|         240.45| 93.55|            20.08|              30.06|\n",
      "|       2020-01-01 23:00:00|         270|        Founders|Founders Rubaeus ...|       420.0|   Pieces|              USA|0.355| 5.7|   2.0|     497.82|         242.18| 35.82|             7.75|              32.73|\n",
      "|       2020-01-01 23:00:00|         271|         BrewDog|Brewdog Dead Pony...|       540.0|   Pieces|   United Kingdom| 0.66| 3.8|   1.0|     324.84|         175.16| 53.84|            19.87|              35.03|\n",
      "|       2020-01-01 23:00:00|         282|Schneider Weisse|Schneider Weisse ...|       370.0|   Pieces|          Germany|  0.5| 8.2|   1.0|      423.0|           47.0| 252.0|           147.37|               10.0|\n",
      "|       2020-01-01 23:00:00|         294|            Boon|Boon Geuze Mariag...|       600.0|   Pieces|          Belgium|0.375| 8.0|   1.0|     324.84|         175.16| 25.84|             8.64|              35.03|\n",
      "|       2020-01-01 23:00:00|         298|            Jaws|Jaws Oatmeal Stou...|       220.0|   Pieces|           Russia|  0.5| 5.2|   1.0|      180.0|           NULL| 90.32|           100.71|               NULL|\n",
      "|       2020-01-01 23:00:00|         386|         Pohjala|Pohjala Must Kuld...|       420.0|   Pieces|          Estonia| 0.33| 7.8|   1.0|      370.0|           NULL| 165.0|            80.49|               NULL|\n",
      "|       2020-01-01 23:00:00|         457|Schneider Weisse|Schneider Weisse ...|       370.0|   Pieces|          Germany|  0.5| 8.2|   1.0|      230.0|          100.0|  51.0|            28.49|               30.3|\n",
      "|       2020-01-01 23:00:00|         566|            Jaws|Jaws Atomnaja Pra...|       260.0|   Pieces|           Russia|  0.5| 7.0|   3.0|     549.42|         110.58|211.35|            62.52|              16.75|\n",
      "|       2020-01-01 23:00:00|         581|         De Noel|Cider sparkling D...|       550.0|   Pieces|             NULL| 0.75| 4.5|   5.0|    2032.71|         717.29|615.21|             43.4|              26.08|\n",
      "|       2020-01-01 23:00:00|         615|         Brewski|Brewski Mango Hal...|       480.0|   Pieces|           Sweden| 0.33| 5.5|   1.0|     407.62|          22.38|162.62|            66.38|                5.2|\n",
      "|       2020-01-01 23:00:00|         646|         AF Brew|AF Brew Black Mag...|       300.0|   Pieces|           Russia|  0.5| 5.8|   1.0|      280.0|           NULL| 150.0|           115.38|               NULL|\n",
      "|       2020-01-01 23:00:00|         688|     Harviestoun|Harviestoun Old E...|       350.0|   Pieces|   United Kingdom| 0.33| 6.0|   1.0|     255.97|          14.03|133.25|           108.58|                5.2|\n",
      "|       2020-01-01 23:00:00|         706|            Jaws|Wakardi Apple Cid...|       300.0|   Pieces|           Russia|  0.5| 4.9|   1.0|      160.0|           NULL| 73.27|            84.48|               NULL|\n",
      "+--------------------------+------------+----------------+--------------------+------------+---------+-----------------+-----+----+------+-----------+---------------+------+-----------------+-------------------+\n",
      "only showing top 20 rows\n",
      "\n"
     ]
    }
   ],
   "source": [
    "sales_df = transaction_df\\\n",
    "    .join(product_df, transaction_df['product_code'] == product_df['Product_code'], how=\"left\")\\\n",
    "        .drop(product_df['Product_code'])\\\n",
    "        .select(\"Date_and_time_of_unloading\",  \"Product_code\",  \"Vendor_code\",  \"Name\",  \"Retail_price\",  \"Base_unit\",  \"Country_of_Origin\",  \"Size\",  \"ABV\",  \"Amount\",  \"Sale_amount\",  \"Discount_amount\",  \"Profit\",  \"Percentage_markup\",  \"Discount_percentage\")\n",
    "sales_df.show()"
   ]
  },
  {
   "cell_type": "markdown",
   "metadata": {},
   "source": [
    "# Data Cleaning"
   ]
  },
  {
   "cell_type": "code",
   "execution_count": 13,
   "metadata": {
    "vscode": {
     "languageId": "sql"
    }
   },
   "outputs": [
    {
     "name": "stdout",
     "output_type": "stream",
     "text": [
      "Total Product Rows: 5314\n",
      "Total Transactions Rows: 50084\n",
      "Total Sales Rows: 50084\n"
     ]
    }
   ],
   "source": [
    "print(\"Total Product Rows:\", product_df.count())\n",
    "print(\"Total Transactions Rows:\", transaction_df.count())\n",
    "print(\"Total Sales Rows:\", sales_df.count())"
   ]
  },
  {
   "cell_type": "code",
   "execution_count": 14,
   "metadata": {
    "vscode": {
     "languageId": "sql"
    }
   },
   "outputs": [
    {
     "name": "stdout",
     "output_type": "stream",
     "text": [
      "1358\n"
     ]
    }
   ],
   "source": [
    "inactive_product_count = (\n",
    "    product_df\n",
    "    .join(\n",
    "        transaction_df.select(\"product_code\").distinct(),\n",
    "        on=\"product_code\",\n",
    "        how=\"left_anti\"\n",
    "    )\n",
    "    .count()\n",
    ")\n",
    "print(inactive_product_count)"
   ]
  },
  {
   "cell_type": "code",
   "execution_count": 15,
   "metadata": {},
   "outputs": [
    {
     "name": "stdout",
     "output_type": "stream",
     "text": [
      "Count Distinct Date_and_time_of_unloading: 458\n",
      "Count Distinct Product_code: 3956\n",
      "Count Distinct Vendor_code: 230\n",
      "Count Distinct Name: 3928\n",
      "Count Distinct Retail_price: 176\n",
      "Count Distinct Base_unit: 4\n",
      "Count Distinct Country_of_Origin: 27\n",
      "Count Distinct Size: 30\n",
      "Count Distinct ABV: 144\n",
      "Count Distinct Amount: 617\n",
      "Count Distinct Sale_amount: 22573\n",
      "Count Distinct Discount_amount: 17844\n",
      "Count Distinct Profit: 27942\n",
      "Count Distinct Percentage_markup: 13926\n",
      "Count Distinct Discount_percentage: 3630\n"
     ]
    }
   ],
   "source": [
    "for column in sales_df.columns:\n",
    "    col_cnt = sales_df.select(column).distinct().count()\n",
    "    print(f\"Count Distinct {column}: {col_cnt}\")"
   ]
  },
  {
   "cell_type": "code",
   "execution_count": 16,
   "metadata": {},
   "outputs": [
    {
     "data": {
      "image/png": "[encoded data removed]",
      "text/plain": [
       "<Figure size 640x480 with 1 Axes>"
      ]
     },
     "metadata": {},
     "output_type": "display_data"
    }
   ],
   "source": [
    "not_null_counts = sales_df.select([sum((~col(c).isNull()).cast(\"int\")).alias(c) for c in sales_df.columns])\n",
    "not_null_counts_pandas = not_null_counts.toPandas().transpose()\n",
    "ax = not_null_counts_pandas.plot(kind=\"bar\", stacked=True, legend=False, colormap=\"plasma\")\n",
    "plt.title(\"Sales Value Counts in Columns\")\n",
    "plt.xlabel(\"Columns\")\n",
    "plt.ylabel(\"Number of Null Values\")\n",
    "plt.axhline(y=sales_df.count(), color='red', linestyle='--', label='Upper Limit')\n",
    "plt.show()"
   ]
  },
  {
   "cell_type": "markdown",
   "metadata": {},
   "source": [
    "## Null Values"
   ]
  },
  {
   "cell_type": "code",
   "execution_count": 17,
   "metadata": {},
   "outputs": [
    {
     "name": "stdout",
     "output_type": "stream",
     "text": [
      "+--------------------------+------------+-----------+----+------------+---------+-----------------+----+----+------+-----------+---------------+------+-----------------+-------------------+\n",
      "|Date_and_time_of_unloading|Product_code|Vendor_code|Name|Retail_price|Base_unit|Country_of_Origin|Size| ABV|Amount|Sale_amount|Discount_amount|Profit|Percentage_markup|Discount_percentage|\n",
      "+--------------------------+------------+-----------+----+------------+---------+-----------------+----+----+------+-----------+---------------+------+-----------------+-------------------+\n",
      "|                         0|           0|       6324|   0|           3|        0|             8509|5836|5850|     0|         51|          10202|    14|             1939|              10202|\n",
      "+--------------------------+------------+-----------+----+------------+---------+-----------------+----+----+------+-----------+---------------+------+-----------------+-------------------+\n",
      "\n"
     ]
    }
   ],
   "source": [
    "null_counts = sales_df.select([sum(col(c).isNull().cast(\"int\")).alias(c) for c in sales_df.columns])\n",
    "null_counts.show()"
   ]
  },
  {
   "cell_type": "code",
   "execution_count": 18,
   "metadata": {},
   "outputs": [
    {
     "name": "stdout",
     "output_type": "stream",
     "text": [
      "+--------------------------+------------+-----------+-----------+------------+---------+-----------------+----+----+------+-----------+---------------+--------+-----------------+-------------------+\n",
      "|Date_and_time_of_unloading|Product_code|Vendor_code|       Name|Retail_price|Base_unit|Country_of_Origin|Size| ABV|Amount|Sale_amount|Discount_amount|  Profit|Percentage_markup|Discount_percentage|\n",
      "+--------------------------+------------+-----------+-----------+------------+---------+-----------------+----+----+------+-----------+---------------+--------+-----------------+-------------------+\n",
      "|       2020-06-24 19:00:00|        2395|       NULL|Soft drinks|        NULL|   Pieces|             NULL|NULL|NULL|  50.0|   23249.31|           0.69|23249.31|             NULL|                0.0|\n",
      "|       2020-12-01 17:00:00|        3046|       NULL|     Snacks|        NULL|   Pieces|             NULL|NULL|NULL|  24.0|    1877.19|         422.81| 1877.19|             NULL|              18.38|\n",
      "|       2020-12-03 19:00:00|        3046|       NULL|     Snacks|        NULL|   Pieces|             NULL|NULL|NULL|   8.0|     898.86|         201.14|  898.86|             NULL|              18.29|\n",
      "+--------------------------+------------+-----------+-----------+------------+---------+-----------------+----+----+------+-----------+---------------+--------+-----------------+-------------------+\n",
      "\n"
     ]
    }
   ],
   "source": [
    "# Checking the product, this transaction is not beer related row\n",
    "sales_df.filter(col('Retail_price').isNull()).show()"
   ]
  },
  {
   "cell_type": "code",
   "execution_count": 19,
   "metadata": {},
   "outputs": [
    {
     "name": "stdout",
     "output_type": "stream",
     "text": [
      "+--------------------------+------------+-----------+------+------------+---------+-----------------+----+----+------+-----------+---------------+-------+-----------------+-------------------+\n",
      "|Date_and_time_of_unloading|Product_code|Vendor_code|  Name|Retail_price|Base_unit|Country_of_Origin|Size| ABV|Amount|Sale_amount|Discount_amount| Profit|Percentage_markup|Discount_percentage|\n",
      "+--------------------------+------------+-----------+------+------------+---------+-----------------+----+----+------+-----------+---------------+-------+-----------------+-------------------+\n",
      "|       2020-12-01 17:00:00|        3046|       NULL|Snacks|        NULL|   Pieces|             NULL|NULL|NULL|  24.0|    1877.19|         422.81|1877.19|             NULL|              18.38|\n",
      "|       2020-12-03 19:00:00|        3046|       NULL|Snacks|        NULL|   Pieces|             NULL|NULL|NULL|   8.0|     898.86|         201.14| 898.86|             NULL|              18.29|\n",
      "+--------------------------+------------+-----------+------+------------+---------+-----------------+----+----+------+-----------+---------------+-------+-----------------+-------------------+\n",
      "\n"
     ]
    }
   ],
   "source": [
    "sales_df.filter(col('Name') == 'Snacks').show()"
   ]
  },
  {
   "cell_type": "code",
   "execution_count": 20,
   "metadata": {},
   "outputs": [
    {
     "name": "stdout",
     "output_type": "stream",
     "text": [
      "+--------------------------+------------+-----------+--------------------+------------+---------+-----------------+----+----+------+-----------+---------------+------+-----------------+-------------------+\n",
      "|Date_and_time_of_unloading|Product_code|Vendor_code|                Name|Retail_price|Base_unit|Country_of_Origin|Size| ABV|Amount|Sale_amount|Discount_amount|Profit|Percentage_markup|Discount_percentage|\n",
      "+--------------------------+------------+-----------+--------------------+------------+---------+-----------------+----+----+------+-----------+---------------+------+-----------------+-------------------+\n",
      "|       2020-01-02 01:00:00|         519|     Snacks|Assorted nuts 100 gr|       250.0|   Pieces|             NULL|NULL|NULL|   1.0|      200.0|           NULL| 200.0|             NULL|               NULL|\n",
      "|       2020-01-02 01:00:00|        1032|     Snacks|Roasted Almonds 100g|       200.0|     100g|           Russia|NULL|NULL|   5.0|     927.18|          72.82|377.18|            68.58|               7.28|\n",
      "|       2020-01-03 01:00:00|         519|     Snacks|Assorted nuts 100 gr|       250.0|   Pieces|             NULL|NULL|NULL|   2.0|     379.17|          20.83|379.17|             NULL|               5.21|\n",
      "|       2020-01-03 01:00:00|         591|     Snacks|    Grissini portion|       150.0|   Pieces|             NULL|NULL|NULL|   2.0|     284.37|          15.63|179.37|           170.83|               5.21|\n",
      "|       2020-01-03 01:00:00|        1032|     Snacks|Roasted Almonds 100g|       200.0|     100g|           Russia|NULL|NULL|   4.0|     658.15|         141.85|218.15|            49.58|              17.73|\n",
      "+--------------------------+------------+-----------+--------------------+------------+---------+-----------------+----+----+------+-----------+---------------+------+-----------------+-------------------+\n",
      "only showing top 5 rows\n",
      "\n"
     ]
    }
   ],
   "source": [
    "sales_df.filter(col('Vendor_code') == 'Snacks').show(5)"
   ]
  },
  {
   "cell_type": "code",
   "execution_count": 21,
   "metadata": {},
   "outputs": [
    {
     "name": "stdout",
     "output_type": "stream",
     "text": [
      "+----------------+-----+\n",
      "|     Vendor_code|count|\n",
      "+----------------+-----+\n",
      "|            NULL| 6324|\n",
      "|            Jaws| 4014|\n",
      "|         AF Brew| 2756|\n",
      "|         BrewDog| 2067|\n",
      "|       Naparbier| 1839|\n",
      "|         Sobolev| 1507|\n",
      "|          Snacks| 1241|\n",
      "| Weihenstephaner| 1197|\n",
      "|         Bakunin| 1159|\n",
      "|       Mikkeller| 1103|\n",
      "|         Saldens|  996|\n",
      "|      Red Button|  951|\n",
      "|         Zagovor|  929|\n",
      "|         XP Brew|  815|\n",
      "|       Omnipollo|  736|\n",
      "|           To Ol|  728|\n",
      "|       Verhaeghe|  709|\n",
      "|Schneider Weisse|  707|\n",
      "|         Brewski|  707|\n",
      "|     Big Village|  660|\n",
      "+----------------+-----+\n",
      "only showing top 20 rows\n",
      "\n"
     ]
    }
   ],
   "source": [
    "# Snacks Not required\n",
    "# Remove Vendor_code and Name Snacks\n",
    "sales_df.groupBy('Vendor_code').count().orderBy('count', ascending = False).show()"
   ]
  },
  {
   "cell_type": "code",
   "execution_count": 22,
   "metadata": {},
   "outputs": [
    {
     "name": "stdout",
     "output_type": "stream",
     "text": [
      "+--------------------------+------------+-----------+-----------+------------+---------+-----------------+----+----+------+-----------+---------------+--------+-----------------+-------------------+\n",
      "|Date_and_time_of_unloading|Product_code|Vendor_code|       Name|Retail_price|Base_unit|Country_of_Origin|Size| ABV|Amount|Sale_amount|Discount_amount|  Profit|Percentage_markup|Discount_percentage|\n",
      "+--------------------------+------------+-----------+-----------+------------+---------+-----------------+----+----+------+-----------+---------------+--------+-----------------+-------------------+\n",
      "|       2020-06-24 19:00:00|        2395|       NULL|Soft drinks|        NULL|   Pieces|             NULL|NULL|NULL|  50.0|   23249.31|           0.69|23249.31|             NULL|                0.0|\n",
      "+--------------------------+------------+-----------+-----------+------------+---------+-----------------+----+----+------+-----------+---------------+--------+-----------------+-------------------+\n",
      "\n"
     ]
    }
   ],
   "source": [
    "sales_df.filter(col('Name') == 'Soft drinks').show()"
   ]
  },
  {
   "cell_type": "code",
   "execution_count": 23,
   "metadata": {},
   "outputs": [],
   "source": [
    "sales_df = sales_df.filter(\n",
    "    (col('Vendor_code') != 'Snacks') | \n",
    "    (col('Name') != 'Snacks') \n",
    ")"
   ]
  },
  {
   "cell_type": "code",
   "execution_count": 24,
   "metadata": {},
   "outputs": [],
   "source": [
    "sales_df = sales_df.filter(\n",
    "    (col('Name') != 'Soft drinks')\n",
    ")"
   ]
  },
  {
   "cell_type": "code",
   "execution_count": 25,
   "metadata": {},
   "outputs": [
    {
     "name": "stdout",
     "output_type": "stream",
     "text": [
      "+--------------------------+------------+-----------+--------------------+------------+---------+-----------------+----+----+------+-----------+---------------+-------+-----------------+-------------------+\n",
      "|Date_and_time_of_unloading|Product_code|Vendor_code|                Name|Retail_price|Base_unit|Country_of_Origin|Size| ABV|Amount|Sale_amount|Discount_amount| Profit|Percentage_markup|Discount_percentage|\n",
      "+--------------------------+------------+-----------+--------------------+------------+---------+-----------------+----+----+------+-----------+---------------+-------+-----------------+-------------------+\n",
      "|       2020-01-01 23:00:00|        1019|       NULL|Cider Kerisac Bre...|       800.0|   Liters|             NULL| 1.0| 5.0|  0.25|      160.0|           20.0|  81.25|           103.17|              11.11|\n",
      "|       2020-01-01 23:00:00|        1214|       NULL|Trabanco Sidra Na...|       650.0|   Pieces|             NULL| 0.7| 6.0|   1.0|     419.66|         180.34| 100.16|            31.35|              30.06|\n",
      "|       2020-01-01 23:00:00|        1434|       NULL|PRUNUS/ Salden's ...|       400.0|   Liters|             NULL| 1.0| 5.4|   2.0|      780.0|          100.0|  404.0|           107.45|              11.36|\n",
      "|       2020-01-01 23:00:00|        1486|       NULL|Cider Bullevie Gr...|       700.0|   Pieces|           Russia|0.75| 5.5|   1.0|     663.57|          36.43| 263.57|            65.89|                5.2|\n",
      "|       2020-01-01 23:00:00|        1501|       NULL|Cider Val de Ranc...|       770.0|   Pieces|             NULL| 1.5| 4.5|   1.0|      487.5|          212.5|  172.5|            54.76|              30.36|\n",
      "|       2020-01-01 23:00:00|        1530|       NULL|          Passiflora|       330.0|   Pieces|             NULL|0.33| 3.8|   1.0|     263.65|          66.35| 113.65|            75.77|              20.11|\n",
      "|       2020-01-01 23:00:00|        1534|       NULL|        Rojal Porter|       400.0|   Pieces|             NULL|0.33| 9.8|   1.0|     312.83|          17.17| 102.83|            48.97|                5.2|\n",
      "|       2020-01-01 23:00:00|        1562|       NULL|  Melody Fusion 0.75|       450.0|   Pieces|             NULL|0.75| 8.5|   1.0|      280.0|           70.0|   80.0|             40.0|               20.0|\n",
      "|       2020-01-01 23:00:00|        1595|       NULL|Birra del' Borgo ...|       380.0|   Pieces|             NULL|0.33| 4.9|   2.0|     512.79|         247.21| 100.79|            24.46|              32.53|\n",
      "|       2020-01-01 23:00:00|        1683|       NULL|Roug Marrionberri...|       960.0|   Liters|             NULL| 1.0|11.4|  0.25|     191.11|          48.89|  75.25|            64.95|              20.37|\n",
      "|       2020-01-01 23:00:00|        1709|       NULL|Nafciarz Dukielsk...|       400.0|   Pieces|             NULL| 0.5| 6.3|   3.0|     1200.0|           NULL|  597.0|             99.0|               NULL|\n",
      "|       2020-01-02 01:00:00|        1030|       NULL|Lomtiki govjadina...|       200.0|   Pieces|             NULL|NULL|NULL|   1.0|     159.94|          40.06|  61.94|             63.2|              20.03|\n",
      "|       2020-01-02 01:00:00|        1213|       NULL|Cider Sidra Natur...|       800.0|   Liters|             NULL| 1.0| 6.0|  0.25|     169.84|          10.16|  91.09|           115.67|               5.64|\n",
      "|       2020-01-02 01:00:00|        1434|       NULL|PRUNUS/ Salden's ...|       400.0|   Liters|             NULL| 1.0| 5.4|  3.75|    1491.16|         168.84| 786.16|           111.51|              10.17|\n",
      "|       2020-01-02 01:00:00|        1797|       NULL|Nogne O Kriek of ...|       470.0|   Pieces|             NULL|0.33| 6.5|   2.0|      700.0|          240.0|  156.0|            28.68|              25.53|\n",
      "|       2020-01-03 01:00:00|         717|       NULL|          Karpachcho|       280.0|   Pieces|             NULL|NULL|NULL|   5.0|     1225.0|           25.0| 1225.0|             NULL|                2.0|\n",
      "|       2020-01-03 01:00:00|         965|       NULL|Assam Tea / Milk ...|       250.0|   Pieces|             NULL|NULL|NULL|   1.0|      225.0|           25.0|  110.0|            95.65|               10.0|\n",
      "|       2020-01-03 01:00:00|        1019|       NULL|Cider Kerisac Bre...|       800.0|   Liters|             NULL| 1.0| 5.0|  2.75|     1900.0|           80.0|1033.75|           119.34|               4.04|\n",
      "|       2020-01-03 01:00:00|        1030|       NULL|Lomtiki govjadina...|       200.0|   Pieces|             NULL|NULL|NULL|   1.0|     159.89|          40.11|  61.89|            63.15|              20.06|\n",
      "|       2020-01-03 01:00:00|        1213|       NULL|Cider Sidra Natur...|       800.0|   Liters|             NULL| 1.0| 6.0|   4.0|     2535.0|          345.0| 1275.0|           101.19|              11.98|\n",
      "+--------------------------+------------+-----------+--------------------+------------+---------+-----------------+----+----+------+-----------+---------------+-------+-----------------+-------------------+\n",
      "only showing top 20 rows\n",
      "\n"
     ]
    }
   ],
   "source": [
    "sales_df.filter(col('Vendor_code').isNull()).show()"
   ]
  },
  {
   "cell_type": "code",
   "execution_count": 26,
   "metadata": {},
   "outputs": [
    {
     "name": "stdout",
     "output_type": "stream",
     "text": [
      "+--------------------------+------------+-----------+--------------------+------------+---------+-----------------+----+----+------+-----------+---------------+------+-----------------+-------------------+\n",
      "|Date_and_time_of_unloading|Product_code|Vendor_code|                Name|Retail_price|Base_unit|Country_of_Origin|Size| ABV|Amount|Sale_amount|Discount_amount|Profit|Percentage_markup|Discount_percentage|\n",
      "+--------------------------+------------+-----------+--------------------+------------+---------+-----------------+----+----+------+-----------+---------------+------+-----------------+-------------------+\n",
      "|       2020-01-01 23:00:00|         581|    De Noel|Cider sparkling D...|       550.0|   Pieces|             NULL|0.75| 4.5|   5.0|    2032.71|         717.29|615.21|             43.4|              26.08|\n",
      "|       2020-01-01 23:00:00|        1019|       NULL|Cider Kerisac Bre...|       800.0|   Liters|             NULL| 1.0| 5.0|  0.25|      160.0|           20.0| 81.25|           103.17|              11.11|\n",
      "|       2020-01-01 23:00:00|        1214|       NULL|Trabanco Sidra Na...|       650.0|   Pieces|             NULL| 0.7| 6.0|   1.0|     419.66|         180.34|100.16|            31.35|              30.06|\n",
      "|       2020-01-01 23:00:00|        1238| Red Button|Red Button In The...|       170.0|   Pieces|             NULL|0.33| 5.5|   5.0|     1150.0|          100.0| 575.0|            100.0|                8.0|\n",
      "|       2020-01-01 23:00:00|        1434|       NULL|PRUNUS/ Salden's ...|       400.0|   Liters|             NULL| 1.0| 5.4|   2.0|      780.0|          100.0| 404.0|           107.45|              11.36|\n",
      "|       2020-01-01 23:00:00|        1501|       NULL|Cider Val de Ranc...|       770.0|   Pieces|             NULL| 1.5| 4.5|   1.0|      487.5|          212.5| 172.5|            54.76|              30.36|\n",
      "|       2020-01-01 23:00:00|        1530|       NULL|          Passiflora|       330.0|   Pieces|             NULL|0.33| 3.8|   1.0|     263.65|          66.35|113.65|            75.77|              20.11|\n",
      "|       2020-01-01 23:00:00|        1534|       NULL|        Rojal Porter|       400.0|   Pieces|             NULL|0.33| 9.8|   1.0|     312.83|          17.17|102.83|            48.97|                5.2|\n",
      "|       2020-01-01 23:00:00|        1562|       NULL|  Melody Fusion 0.75|       450.0|   Pieces|             NULL|0.75| 8.5|   1.0|      280.0|           70.0|  80.0|             40.0|               20.0|\n",
      "|       2020-01-01 23:00:00|        1595|       NULL|Birra del' Borgo ...|       380.0|   Pieces|             NULL|0.33| 4.9|   2.0|     512.79|         247.21|100.79|            24.46|              32.53|\n",
      "|       2020-01-01 23:00:00|        1683|       NULL|Roug Marrionberri...|       960.0|   Liters|             NULL| 1.0|11.4|  0.25|     191.11|          48.89| 75.25|            64.95|              20.37|\n",
      "|       2020-01-01 23:00:00|        1709|       NULL|Nafciarz Dukielsk...|       400.0|   Pieces|             NULL| 0.5| 6.3|   3.0|     1200.0|           NULL| 597.0|             99.0|               NULL|\n",
      "|       2020-01-02 01:00:00|         519|     Snacks|Assorted nuts 100 gr|       250.0|   Pieces|             NULL|NULL|NULL|   1.0|      200.0|           NULL| 200.0|             NULL|               NULL|\n",
      "|       2020-01-02 01:00:00|        1030|       NULL|Lomtiki govjadina...|       200.0|   Pieces|             NULL|NULL|NULL|   1.0|     159.94|          40.06| 61.94|             63.2|              20.03|\n",
      "|       2020-01-02 01:00:00|        1213|       NULL|Cider Sidra Natur...|       800.0|   Liters|             NULL| 1.0| 6.0|  0.25|     169.84|          10.16| 91.09|           115.67|               5.64|\n",
      "|       2020-01-02 01:00:00|        1434|       NULL|PRUNUS/ Salden's ...|       400.0|   Liters|             NULL| 1.0| 5.4|  3.75|    1491.16|         168.84|786.16|           111.51|              10.17|\n",
      "|       2020-01-02 01:00:00|        1797|       NULL|Nogne O Kriek of ...|       470.0|   Pieces|             NULL|0.33| 6.5|   2.0|      700.0|          240.0| 156.0|            28.68|              25.53|\n",
      "|       2020-01-03 01:00:00|         519|     Snacks|Assorted nuts 100 gr|       250.0|   Pieces|             NULL|NULL|NULL|   2.0|     379.17|          20.83|379.17|             NULL|               5.21|\n",
      "|       2020-01-03 01:00:00|         591|     Snacks|    Grissini portion|       150.0|   Pieces|             NULL|NULL|NULL|   2.0|     284.37|          15.63|179.37|           170.83|               5.21|\n",
      "|       2020-01-03 01:00:00|         717|       NULL|          Karpachcho|       280.0|   Pieces|             NULL|NULL|NULL|   5.0|     1225.0|           25.0|1225.0|             NULL|                2.0|\n",
      "+--------------------------+------------+-----------+--------------------+------------+---------+-----------------+----+----+------+-----------+---------------+------+-----------------+-------------------+\n",
      "only showing top 20 rows\n",
      "\n"
     ]
    }
   ],
   "source": [
    "sales_df.filter(col('Country_of_Origin').isNull()).show()"
   ]
  },
  {
   "cell_type": "code",
   "execution_count": 27,
   "metadata": {},
   "outputs": [
    {
     "name": "stdout",
     "output_type": "stream",
     "text": [
      "+--------------------------+------------+-----------+--------------------+------------+---------+-----------------+----+----+------+-----------+---------------+------+-----------------+-------------------+\n",
      "|Date_and_time_of_unloading|Product_code|Vendor_code|                Name|Retail_price|Base_unit|Country_of_Origin|Size| ABV|Amount|Sale_amount|Discount_amount|Profit|Percentage_markup|Discount_percentage|\n",
      "+--------------------------+------------+-----------+--------------------+------------+---------+-----------------+----+----+------+-----------+---------------+------+-----------------+-------------------+\n",
      "|       2020-01-02 01:00:00|         364|    Sobolev|      Cheese Stilton|       350.0|   Pieces|           Russia|NULL|NULL|   2.0|      629.9|           70.1| 359.9|            133.3|              10.01|\n",
      "|       2020-01-02 01:00:00|         380|    Sobolev|Cheese Belper Kno...|       300.0|   Pieces|           Russia|NULL|NULL|   1.0|      300.0|           NULL| 150.0|            100.0|               NULL|\n",
      "|       2020-01-02 01:00:00|         519|     Snacks|Assorted nuts 100 gr|       250.0|   Pieces|             NULL|NULL|NULL|   1.0|      200.0|           NULL| 200.0|             NULL|               NULL|\n",
      "|       2020-01-02 01:00:00|         898|    Sobolev|Cheese Rocamadour...|       350.0|   Pieces|           Russia|NULL|NULL|   1.0|      279.9|           70.1| 279.9|             NULL|              20.03|\n",
      "|       2020-01-02 01:00:00|        1030|       NULL|Lomtiki govjadina...|       200.0|   Pieces|             NULL|NULL|NULL|   1.0|     159.94|          40.06| 61.94|             63.2|              20.03|\n",
      "|       2020-01-02 01:00:00|        1032|     Snacks|Roasted Almonds 100g|       200.0|     100g|           Russia|NULL|NULL|   5.0|     927.18|          72.82|377.18|            68.58|               7.28|\n",
      "|       2020-01-03 01:00:00|         364|    Sobolev|      Cheese Stilton|       350.0|   Pieces|           Russia|NULL|NULL|   4.0|    1188.44|         211.56|648.44|           120.08|              15.11|\n",
      "|       2020-01-03 01:00:00|         380|    Sobolev|Cheese Belper Kno...|       300.0|   Pieces|           Russia|NULL|NULL|   1.0|      300.0|           NULL| 150.0|            100.0|               NULL|\n",
      "|       2020-01-03 01:00:00|         519|     Snacks|Assorted nuts 100 gr|       250.0|   Pieces|             NULL|NULL|NULL|   2.0|     379.17|          20.83|379.17|             NULL|               5.21|\n",
      "|       2020-01-03 01:00:00|         591|     Snacks|    Grissini portion|       150.0|   Pieces|             NULL|NULL|NULL|   2.0|     284.37|          15.63|179.37|           170.83|               5.21|\n",
      "|       2020-01-03 01:00:00|         717|       NULL|          Karpachcho|       280.0|   Pieces|             NULL|NULL|NULL|   5.0|     1225.0|           25.0|1225.0|             NULL|                2.0|\n",
      "|       2020-01-03 01:00:00|         899|    Sobolev|Cheese La Manche ...|       350.0|   Pieces|           Russia|NULL|NULL|   2.0|      594.3|          105.7| 594.3|             NULL|               15.1|\n",
      "|       2020-01-03 01:00:00|         965|       NULL|Assam Tea / Milk ...|       250.0|   Pieces|             NULL|NULL|NULL|   1.0|      225.0|           25.0| 110.0|            95.65|               10.0|\n",
      "|       2020-01-03 01:00:00|        1030|       NULL|Lomtiki govjadina...|       200.0|   Pieces|             NULL|NULL|NULL|   1.0|     159.89|          40.11| 61.89|            63.15|              20.06|\n",
      "|       2020-01-03 01:00:00|        1032|     Snacks|Roasted Almonds 100g|       200.0|     100g|           Russia|NULL|NULL|   4.0|     658.15|         141.85|218.15|            49.58|              17.73|\n",
      "|       2020-01-04 16:00:00|         356|   Fratelli|    Scamorza classic|       300.0|   Pieces|           Russia|NULL|NULL|   3.0|      840.0|           60.0| 610.5|           266.01|               6.67|\n",
      "|       2020-01-04 16:00:00|         364|    Sobolev|      Cheese Stilton|       350.0|   Pieces|           Russia|NULL|NULL|   4.0|    1137.47|         262.53|597.47|           110.64|              18.75|\n",
      "|       2020-01-04 16:00:00|         380|    Sobolev|Cheese Belper Kno...|       300.0|   Pieces|           Russia|NULL|NULL|   5.0|    1348.47|         151.53|598.47|             79.8|               10.1|\n",
      "|       2020-01-04 16:00:00|         381|   Fratelli|   Cheese Gorgonzola|       350.0|   Pieces|           Russia|NULL|NULL|   2.0|      570.0|           30.0| 364.0|            176.7|                5.0|\n",
      "|       2020-01-04 16:00:00|         591|     Snacks|    Grissini portion|       150.0|   Pieces|             NULL|NULL|NULL|   4.0|     419.97|         180.03|209.97|            99.99|              30.01|\n",
      "+--------------------------+------------+-----------+--------------------+------------+---------+-----------------+----+----+------+-----------+---------------+------+-----------------+-------------------+\n",
      "only showing top 20 rows\n",
      "\n"
     ]
    }
   ],
   "source": [
    "sales_df.filter(col('Size').isNull()).show()"
   ]
  },
  {
   "cell_type": "code",
   "execution_count": 28,
   "metadata": {},
   "outputs": [],
   "source": [
    "sales_df = sales_df.na.fill(\"Other\",[\"Vendor_code\", \"Country_of_Origin\"]) "
   ]
  },
  {
   "cell_type": "code",
   "execution_count": 29,
   "metadata": {},
   "outputs": [
    {
     "name": "stdout",
     "output_type": "stream",
     "text": [
      "+--------------------------+------------+-----------+--------------------+------------+---------+-----------------+----+----+------+-----------+---------------+------+\n",
      "|Date_and_time_of_unloading|Product_code|Vendor_code|                Name|Retail_price|Base_unit|Country_of_Origin|Size| ABV|Amount|Sale_amount|Discount_amount|Profit|\n",
      "+--------------------------+------------+-----------+--------------------+------------+---------+-----------------+----+----+------+-----------+---------------+------+\n",
      "|       2020-01-01 23:00:00|         144|    AF Brew|AF Brew Zimnjaja ...|       280.0|   Pieces|           Russia|0.33|10.3|   1.0|      280.0|           NULL| 155.0|\n",
      "|       2020-01-01 23:00:00|         209|    Pohjala|Pohjala Mutant Di...|       420.0|   Pieces|          Estonia|0.33| 6.8|   2.0|     545.73|         294.27| 75.73|\n",
      "|       2020-01-01 23:00:00|         213|    Kerisac|Cider Kerisac Cid...|       650.0|   Pieces|           France| 1.0| 6.0|   2.0|    1265.05|          34.95|653.05|\n",
      "|       2020-01-01 23:00:00|         217|     Savoie|Cider Savoie Cidr...|       870.0|   Pieces|           France|0.75| 4.5|   1.0|      630.0|           70.0| 220.5|\n",
      "|       2020-01-01 23:00:00|         222|     Bellot|Cider Bellot Cidr...|       770.0|   Pieces|           France|0.75| 5.0|   2.0|    1104.75|         195.25|393.75|\n",
      "+--------------------------+------------+-----------+--------------------+------------+---------+-----------------+----+----+------+-----------+---------------+------+\n",
      "only showing top 5 rows\n",
      "\n"
     ]
    }
   ],
   "source": [
    "sales_df = sales_df.drop('Percentage_markup', 'Discount_percentage')\n",
    "sales_df.show(5)"
   ]
  },
  {
   "cell_type": "markdown",
   "metadata": {},
   "source": [
    "## Casting Columns"
   ]
  },
  {
   "cell_type": "code",
   "execution_count": 30,
   "metadata": {},
   "outputs": [
    {
     "data": {
      "text/plain": [
       "[('Date_and_time_of_unloading', 'string'),\n",
       " ('Product_code', 'string'),\n",
       " ('Vendor_code', 'string'),\n",
       " ('Name', 'string'),\n",
       " ('Retail_price', 'string'),\n",
       " ('Base_unit', 'string'),\n",
       " ('Country_of_Origin', 'string'),\n",
       " ('Size', 'string'),\n",
       " ('ABV', 'string'),\n",
       " ('Amount', 'string'),\n",
       " ('Sale_amount', 'string'),\n",
       " ('Discount_amount', 'string'),\n",
       " ('Profit', 'string')]"
      ]
     },
     "execution_count": 30,
     "metadata": {},
     "output_type": "execute_result"
    }
   ],
   "source": [
    "sales_df.dtypes"
   ]
  },
  {
   "cell_type": "code",
   "execution_count": 31,
   "metadata": {},
   "outputs": [],
   "source": [
    "sales_df = sales_df\\\n",
    "    .withColumn('Entry_date', col('Date_and_time_of_unloading').cast(DateType()))\\\n",
    "    .drop('Date_and_time_of_unloading')"
   ]
  },
  {
   "cell_type": "code",
   "execution_count": 32,
   "metadata": {},
   "outputs": [],
   "source": [
    "sales_df = sales_df\\\n",
    "    .withColumn('Retail_price', col('Retail_price').cast(DoubleType()))\\\n",
    "    .withColumn('Size', col('Size').cast(DoubleType()))\\\n",
    "    .withColumn('ABV', col('ABV').cast(DoubleType()))\\\n",
    "    .withColumn('Amount', col('Amount').cast(DoubleType()))\\\n",
    "    .withColumn('Sale_amount', col('Sale_amount').cast(DoubleType()))\\\n",
    "    .withColumn('Discount_amount', col('Discount_amount').cast(DoubleType()))\\\n",
    "    .withColumn('Profit', col('Profit').cast(DoubleType()))"
   ]
  },
  {
   "cell_type": "code",
   "execution_count": 33,
   "metadata": {},
   "outputs": [
    {
     "name": "stdout",
     "output_type": "stream",
     "text": [
      "Product_code string\n",
      "Vendor_code string\n",
      "Name string\n",
      "Retail_price double\n",
      "Base_unit string\n",
      "Country_of_Origin string\n",
      "Size double\n",
      "ABV double\n",
      "Amount double\n",
      "Sale_amount double\n",
      "Discount_amount double\n",
      "Profit double\n",
      "Entry_date date\n"
     ]
    }
   ],
   "source": [
    "for column in sales_df.dtypes:\n",
    "    print(column[0],column[1])"
   ]
  },
  {
   "cell_type": "code",
   "execution_count": 34,
   "metadata": {},
   "outputs": [
    {
     "name": "stdout",
     "output_type": "stream",
     "text": [
      "+------------+----------------+--------------------+------------+---------+-----------------+-----+----+------+-----------+---------------+------+----------+\n",
      "|Product_code|     Vendor_code|                Name|Retail_price|Base_unit|Country_of_Origin| Size| ABV|Amount|Sale_amount|Discount_amount|Profit|Entry_date|\n",
      "+------------+----------------+--------------------+------------+---------+-----------------+-----+----+------+-----------+---------------+------+----------+\n",
      "|         144|         AF Brew|AF Brew Zimnjaja ...|       280.0|   Pieces|           Russia| 0.33|10.3|   1.0|      280.0|           NULL| 155.0|2020-01-01|\n",
      "|         209|         Pohjala|Pohjala Mutant Di...|       420.0|   Pieces|          Estonia| 0.33| 6.8|   2.0|     545.73|         294.27| 75.73|2020-01-01|\n",
      "|         213|         Kerisac|Cider Kerisac Cid...|       650.0|   Pieces|           France|  1.0| 6.0|   2.0|    1265.05|          34.95|653.05|2020-01-01|\n",
      "|         217|          Savoie|Cider Savoie Cidr...|       870.0|   Pieces|           France| 0.75| 4.5|   1.0|      630.0|           70.0| 220.5|2020-01-01|\n",
      "|         222|          Bellot|Cider Bellot Cidr...|       770.0|   Pieces|           France| 0.75| 5.0|   2.0|    1104.75|         195.25|393.75|2020-01-01|\n",
      "|         243|            Boon|Boon Oude Geuze /...|       540.0|   Pieces|          Belgium|0.375| 7.0|   1.0|     292.36|         157.64|  1.36|2020-01-01|\n",
      "|         258|       Verhaeghe|Verhaeghe Duchess...|       900.0|   Pieces|          Belgium| 0.75| 6.2|   1.0|     559.55|         240.45| 93.55|2020-01-01|\n",
      "|         270|        Founders|Founders Rubaeus ...|       420.0|   Pieces|              USA|0.355| 5.7|   2.0|     497.82|         242.18| 35.82|2020-01-01|\n",
      "|         271|         BrewDog|Brewdog Dead Pony...|       540.0|   Pieces|   United Kingdom| 0.66| 3.8|   1.0|     324.84|         175.16| 53.84|2020-01-01|\n",
      "|         282|Schneider Weisse|Schneider Weisse ...|       370.0|   Pieces|          Germany|  0.5| 8.2|   1.0|      423.0|           47.0| 252.0|2020-01-01|\n",
      "|         294|            Boon|Boon Geuze Mariag...|       600.0|   Pieces|          Belgium|0.375| 8.0|   1.0|     324.84|         175.16| 25.84|2020-01-01|\n",
      "|         298|            Jaws|Jaws Oatmeal Stou...|       220.0|   Pieces|           Russia|  0.5| 5.2|   1.0|      180.0|           NULL| 90.32|2020-01-01|\n",
      "|         386|         Pohjala|Pohjala Must Kuld...|       420.0|   Pieces|          Estonia| 0.33| 7.8|   1.0|      370.0|           NULL| 165.0|2020-01-01|\n",
      "|         457|Schneider Weisse|Schneider Weisse ...|       370.0|   Pieces|          Germany|  0.5| 8.2|   1.0|      230.0|          100.0|  51.0|2020-01-01|\n",
      "|         566|            Jaws|Jaws Atomnaja Pra...|       260.0|   Pieces|           Russia|  0.5| 7.0|   3.0|     549.42|         110.58|211.35|2020-01-01|\n",
      "|         581|         De Noel|Cider sparkling D...|       550.0|   Pieces|            Other| 0.75| 4.5|   5.0|    2032.71|         717.29|615.21|2020-01-01|\n",
      "|         615|         Brewski|Brewski Mango Hal...|       480.0|   Pieces|           Sweden| 0.33| 5.5|   1.0|     407.62|          22.38|162.62|2020-01-01|\n",
      "|         646|         AF Brew|AF Brew Black Mag...|       300.0|   Pieces|           Russia|  0.5| 5.8|   1.0|      280.0|           NULL| 150.0|2020-01-01|\n",
      "|         688|     Harviestoun|Harviestoun Old E...|       350.0|   Pieces|   United Kingdom| 0.33| 6.0|   1.0|     255.97|          14.03|133.25|2020-01-01|\n",
      "|         706|            Jaws|Wakardi Apple Cid...|       300.0|   Pieces|           Russia|  0.5| 4.9|   1.0|      160.0|           NULL| 73.27|2020-01-01|\n",
      "+------------+----------------+--------------------+------------+---------+-----------------+-----+----+------+-----------+---------------+------+----------+\n",
      "only showing top 20 rows\n",
      "\n"
     ]
    }
   ],
   "source": [
    "sales_df.show()"
   ]
  },
  {
   "cell_type": "markdown",
   "metadata": {},
   "source": [
    "## Rename Columns"
   ]
  },
  {
   "cell_type": "code",
   "execution_count": 35,
   "metadata": {},
   "outputs": [],
   "source": [
    "sales_df = sales_df.withColumnsRenamed({\n",
    "    \"Product_code\": \"pid\",\n",
    "    \"Vendor_code\": \"vendor\",\n",
    "    \"Name\": \"product\",\n",
    "    \"Retail_price\": \"retail_price\",\n",
    "    \"Base_unit\": \"base_unit\",\n",
    "    \"Country_of_Origin\": \"origin_country\",\n",
    "    \"Size\": \"size\",\n",
    "    \"ABV\": \"abv\",\n",
    "    \"Amount\": \"quantity\",\n",
    "    \"Sale_amount\": \"total_sale\",\n",
    "    \"Discount_amount\": \"discount\",\n",
    "    \"Profit\": \"profit\",\n",
    "    \"Entry_date\": \"entry_date\"\n",
    "})"
   ]
  },
  {
   "cell_type": "code",
   "execution_count": 36,
   "metadata": {},
   "outputs": [],
   "source": [
    "# Reorder Columns\n",
    "columns = sales_df.columns\n",
    "columns.insert(0, columns.pop())\n",
    "sales_df = sales_df.select(*columns)"
   ]
  },
  {
   "cell_type": "code",
   "execution_count": 37,
   "metadata": {},
   "outputs": [
    {
     "name": "stdout",
     "output_type": "stream",
     "text": [
      "+----------+---+----------------+--------------------+------------+---------+--------------+-----+----+--------+----------+--------+------+\n",
      "|entry_date|pid|          vendor|             product|retail_price|base_unit|origin_country| size| abv|quantity|total_sale|discount|profit|\n",
      "+----------+---+----------------+--------------------+------------+---------+--------------+-----+----+--------+----------+--------+------+\n",
      "|2020-01-01|144|         AF Brew|AF Brew Zimnjaja ...|       280.0|   Pieces|        Russia| 0.33|10.3|     1.0|     280.0|    NULL| 155.0|\n",
      "|2020-01-01|209|         Pohjala|Pohjala Mutant Di...|       420.0|   Pieces|       Estonia| 0.33| 6.8|     2.0|    545.73|  294.27| 75.73|\n",
      "|2020-01-01|213|         Kerisac|Cider Kerisac Cid...|       650.0|   Pieces|        France|  1.0| 6.0|     2.0|   1265.05|   34.95|653.05|\n",
      "|2020-01-01|217|          Savoie|Cider Savoie Cidr...|       870.0|   Pieces|        France| 0.75| 4.5|     1.0|     630.0|    70.0| 220.5|\n",
      "|2020-01-01|222|          Bellot|Cider Bellot Cidr...|       770.0|   Pieces|        France| 0.75| 5.0|     2.0|   1104.75|  195.25|393.75|\n",
      "|2020-01-01|243|            Boon|Boon Oude Geuze /...|       540.0|   Pieces|       Belgium|0.375| 7.0|     1.0|    292.36|  157.64|  1.36|\n",
      "|2020-01-01|258|       Verhaeghe|Verhaeghe Duchess...|       900.0|   Pieces|       Belgium| 0.75| 6.2|     1.0|    559.55|  240.45| 93.55|\n",
      "|2020-01-01|270|        Founders|Founders Rubaeus ...|       420.0|   Pieces|           USA|0.355| 5.7|     2.0|    497.82|  242.18| 35.82|\n",
      "|2020-01-01|271|         BrewDog|Brewdog Dead Pony...|       540.0|   Pieces|United Kingdom| 0.66| 3.8|     1.0|    324.84|  175.16| 53.84|\n",
      "|2020-01-01|282|Schneider Weisse|Schneider Weisse ...|       370.0|   Pieces|       Germany|  0.5| 8.2|     1.0|     423.0|    47.0| 252.0|\n",
      "|2020-01-01|294|            Boon|Boon Geuze Mariag...|       600.0|   Pieces|       Belgium|0.375| 8.0|     1.0|    324.84|  175.16| 25.84|\n",
      "|2020-01-01|298|            Jaws|Jaws Oatmeal Stou...|       220.0|   Pieces|        Russia|  0.5| 5.2|     1.0|     180.0|    NULL| 90.32|\n",
      "|2020-01-01|386|         Pohjala|Pohjala Must Kuld...|       420.0|   Pieces|       Estonia| 0.33| 7.8|     1.0|     370.0|    NULL| 165.0|\n",
      "|2020-01-01|457|Schneider Weisse|Schneider Weisse ...|       370.0|   Pieces|       Germany|  0.5| 8.2|     1.0|     230.0|   100.0|  51.0|\n",
      "|2020-01-01|566|            Jaws|Jaws Atomnaja Pra...|       260.0|   Pieces|        Russia|  0.5| 7.0|     3.0|    549.42|  110.58|211.35|\n",
      "|2020-01-01|581|         De Noel|Cider sparkling D...|       550.0|   Pieces|         Other| 0.75| 4.5|     5.0|   2032.71|  717.29|615.21|\n",
      "|2020-01-01|615|         Brewski|Brewski Mango Hal...|       480.0|   Pieces|        Sweden| 0.33| 5.5|     1.0|    407.62|   22.38|162.62|\n",
      "|2020-01-01|646|         AF Brew|AF Brew Black Mag...|       300.0|   Pieces|        Russia|  0.5| 5.8|     1.0|     280.0|    NULL| 150.0|\n",
      "|2020-01-01|688|     Harviestoun|Harviestoun Old E...|       350.0|   Pieces|United Kingdom| 0.33| 6.0|     1.0|    255.97|   14.03|133.25|\n",
      "|2020-01-01|706|            Jaws|Wakardi Apple Cid...|       300.0|   Pieces|        Russia|  0.5| 4.9|     1.0|     160.0|    NULL| 73.27|\n",
      "+----------+---+----------------+--------------------+------------+---------+--------------+-----+----+--------+----------+--------+------+\n",
      "only showing top 20 rows\n",
      "\n"
     ]
    }
   ],
   "source": [
    "sales_df.show()"
   ]
  },
  {
   "cell_type": "code",
   "execution_count": 39,
   "metadata": {},
   "outputs": [],
   "source": [
    "sales_df.coalesce(1).write.csv(\"output/sales\", header = True)"
   ]
  },
  {
   "cell_type": "markdown",
   "metadata": {},
   "source": [
    "# Explore"
   ]
  },
  {
   "cell_type": "code",
   "execution_count": 41,
   "metadata": {},
   "outputs": [
    {
     "name": "stdout",
     "output_type": "stream",
     "text": [
      "+----------+---+----------------+--------------------+------------+---------+--------------+-----+----+--------+----------+--------+------+\n",
      "|entry_date|pid|          vendor|             product|retail_price|base_unit|origin_country| size| abv|quantity|total_sale|discount|profit|\n",
      "+----------+---+----------------+--------------------+------------+---------+--------------+-----+----+--------+----------+--------+------+\n",
      "|2020-01-01|144|         AF Brew|AF Brew Zimnjaja ...|       280.0|   Pieces|        Russia| 0.33|10.3|     1.0|     280.0|    NULL| 155.0|\n",
      "|2020-01-01|209|         Pohjala|Pohjala Mutant Di...|       420.0|   Pieces|       Estonia| 0.33| 6.8|     2.0|    545.73|  294.27| 75.73|\n",
      "|2020-01-01|213|         Kerisac|Cider Kerisac Cid...|       650.0|   Pieces|        France|  1.0| 6.0|     2.0|   1265.05|   34.95|653.05|\n",
      "|2020-01-01|217|          Savoie|Cider Savoie Cidr...|       870.0|   Pieces|        France| 0.75| 4.5|     1.0|     630.0|    70.0| 220.5|\n",
      "|2020-01-01|222|          Bellot|Cider Bellot Cidr...|       770.0|   Pieces|        France| 0.75| 5.0|     2.0|   1104.75|  195.25|393.75|\n",
      "|2020-01-01|243|            Boon|Boon Oude Geuze /...|       540.0|   Pieces|       Belgium|0.375| 7.0|     1.0|    292.36|  157.64|  1.36|\n",
      "|2020-01-01|258|       Verhaeghe|Verhaeghe Duchess...|       900.0|   Pieces|       Belgium| 0.75| 6.2|     1.0|    559.55|  240.45| 93.55|\n",
      "|2020-01-01|270|        Founders|Founders Rubaeus ...|       420.0|   Pieces|           USA|0.355| 5.7|     2.0|    497.82|  242.18| 35.82|\n",
      "|2020-01-01|271|         BrewDog|Brewdog Dead Pony...|       540.0|   Pieces|United Kingdom| 0.66| 3.8|     1.0|    324.84|  175.16| 53.84|\n",
      "|2020-01-01|282|Schneider Weisse|Schneider Weisse ...|       370.0|   Pieces|       Germany|  0.5| 8.2|     1.0|     423.0|    47.0| 252.0|\n",
      "|2020-01-01|294|            Boon|Boon Geuze Mariag...|       600.0|   Pieces|       Belgium|0.375| 8.0|     1.0|    324.84|  175.16| 25.84|\n",
      "|2020-01-01|298|            Jaws|Jaws Oatmeal Stou...|       220.0|   Pieces|        Russia|  0.5| 5.2|     1.0|     180.0|    NULL| 90.32|\n",
      "|2020-01-01|386|         Pohjala|Pohjala Must Kuld...|       420.0|   Pieces|       Estonia| 0.33| 7.8|     1.0|     370.0|    NULL| 165.0|\n",
      "|2020-01-01|457|Schneider Weisse|Schneider Weisse ...|       370.0|   Pieces|       Germany|  0.5| 8.2|     1.0|     230.0|   100.0|  51.0|\n",
      "|2020-01-01|566|            Jaws|Jaws Atomnaja Pra...|       260.0|   Pieces|        Russia|  0.5| 7.0|     3.0|    549.42|  110.58|211.35|\n",
      "|2020-01-01|581|         De Noel|Cider sparkling D...|       550.0|   Pieces|         Other| 0.75| 4.5|     5.0|   2032.71|  717.29|615.21|\n",
      "|2020-01-01|615|         Brewski|Brewski Mango Hal...|       480.0|   Pieces|        Sweden| 0.33| 5.5|     1.0|    407.62|   22.38|162.62|\n",
      "|2020-01-01|646|         AF Brew|AF Brew Black Mag...|       300.0|   Pieces|        Russia|  0.5| 5.8|     1.0|     280.0|    NULL| 150.0|\n",
      "|2020-01-01|688|     Harviestoun|Harviestoun Old E...|       350.0|   Pieces|United Kingdom| 0.33| 6.0|     1.0|    255.97|   14.03|133.25|\n",
      "|2020-01-01|706|            Jaws|Wakardi Apple Cid...|       300.0|   Pieces|        Russia|  0.5| 4.9|     1.0|     160.0|    NULL| 73.27|\n",
      "+----------+---+----------------+--------------------+------------+---------+--------------+-----+----+--------+----------+--------+------+\n",
      "only showing top 20 rows\n",
      "\n"
     ]
    }
   ],
   "source": [
    "sales_df.createOrReplaceTempView('sales')\n",
    "spark.sql(\"select * from sales\").show()"
   ]
  },
  {
   "cell_type": "code",
   "execution_count": 59,
   "metadata": {},
   "outputs": [
    {
     "name": "stdout",
     "output_type": "stream",
     "text": [
      "Top 10 Profit Product of All Time\n",
      "+----+-------------------------------------------------+------------+\n",
      "|pid |product                                          |total_profit|\n",
      "+----+-------------------------------------------------+------------+\n",
      "|717 |Karpachcho                                       |948219.0    |\n",
      "|2443|Schneider Weisse TAP 7 Majn Orig Barrel          |752042.0    |\n",
      "|654 |Verhaeghe Barbe Ruby / fruit beer / 7,7%         |627132.0    |\n",
      "|2392|Jaws Svit Stout Nitro Stout Barrel               |512213.0    |\n",
      "|1594|Weihenstephaner Original Barrel                  |485100.0    |\n",
      "|3311|Gaffel Kolsch Barrel30                           |467277.0    |\n",
      "|519 |Assorted nuts 100 gr                             |457259.0    |\n",
      "|637 |Weihenstephaner HEFE WEISSBIER / 5,4%            |454351.0    |\n",
      "|1564|Petrus Aged Red Barrel                           |397882.0    |\n",
      "|566 |Jaws Atomnaja Prachechnaja / Ipa / 7,2% / 0,5 but|391922.0    |\n",
      "+----+-------------------------------------------------+------------+\n",
      "\n"
     ]
    }
   ],
   "source": [
    "print(\"Top 10 Profit Product of All Time\")\n",
    "spark.sql(\"\"\"\n",
    "SELECT\n",
    "    pid,\n",
    "    product,\n",
    "    round(sum(profit)) total_profit\n",
    "FROM SALES\n",
    "GROUP BY 1,2\n",
    "ORDER BY 3 DESC\n",
    "LIMIT 10\n",
    "\"\"\").show(truncate = False)"
   ]
  },
  {
   "cell_type": "code",
   "execution_count": 68,
   "metadata": {},
   "outputs": [
    {
     "name": "stdout",
     "output_type": "stream",
     "text": [
      "Top 5 Loss Product of All Time\n",
      "+----+-------------------------------------+----------+\n",
      "|pid |product                              |total_loss|\n",
      "+----+-------------------------------------+----------+\n",
      "|2240|Brekeriet Pink Passion 4,7% Barrel   |-9301.0   |\n",
      "|1785|Naparbier Oude Gueuze / 6% / 0.75    |-8735.0   |\n",
      "|1474|Poppels Passion Pale Ale 5.2%        |-7781.0   |\n",
      "|334 |JAWS / American Pale Ale / APA / 5,5%|-7779.0   |\n",
      "|333 |JAWS / Oatmeal Stout / stout / 5,2%  |-7000.0   |\n",
      "+----+-------------------------------------+----------+\n",
      "\n"
     ]
    }
   ],
   "source": [
    "print(\"Top 5 Loss Product of All Time\")\n",
    "spark.sql(\"\"\"\n",
    "SELECT\n",
    "    pid,\n",
    "    product,\n",
    "    round(sum(profit)) total_loss\n",
    "FROM SALES\n",
    "WHERE profit < 0\n",
    "GROUP BY 1,2\n",
    "ORDER BY 3\n",
    "LIMIT 5\n",
    "\"\"\").show(truncate = False)"
   ]
  },
  {
   "cell_type": "code",
   "execution_count": 67,
   "metadata": {},
   "outputs": [
    {
     "name": "stdout",
     "output_type": "stream",
     "text": [
      "Top 5 Country By Sales\n",
      "+--------------+----------+\n",
      "|origin_country|total_sale|\n",
      "+--------------+----------+\n",
      "|Russia        |30054128  |\n",
      "|Belgium       |6415157   |\n",
      "|Germany       |6240791   |\n",
      "|United Kingdom|2952852   |\n",
      "|USA           |2529377   |\n",
      "+--------------+----------+\n",
      "\n"
     ]
    }
   ],
   "source": [
    "print(\"Top 5 Country By Sales\")\n",
    "spark.sql(\"\"\"\n",
    "SELECT\n",
    "    origin_country,\n",
    "    CAST(sum(total_sale) AS DECIMAL) total_sale\n",
    "FROM SALES\n",
    "WHERE origin_country <> 'Other'\n",
    "GROUP BY 1\n",
    "ORDER BY 2 DESC\n",
    "LIMIT 5\n",
    "\"\"\").show(truncate = False)"
   ]
  },
  {
   "cell_type": "code",
   "execution_count": 70,
   "metadata": {},
   "outputs": [
    {
     "name": "stdout",
     "output_type": "stream",
     "text": [
      "Top 5 Vendor By Sales\n",
      "+---------------+----------+\n",
      "|vendor         |total_sale|\n",
      "+---------------+----------+\n",
      "|Jaws           |6745705   |\n",
      "|AF Brew        |3915297   |\n",
      "|Zagovor        |2939779   |\n",
      "|Weihenstephaner|2885328   |\n",
      "|Verhaeghe      |2468856   |\n",
      "+---------------+----------+\n",
      "\n"
     ]
    }
   ],
   "source": [
    "print(\"Top 5 Vendor By Sales\")\n",
    "spark.sql(\"\"\"\n",
    "SELECT\n",
    "    vendor,\n",
    "    CAST(sum(total_sale) AS DECIMAL) total_sale\n",
    "FROM SALES\n",
    "WHERE vendor <> \"Other\"\n",
    "GROUP BY 1\n",
    "ORDER BY 2 DESC\n",
    "LIMIT 5\n",
    "\"\"\").show(truncate = False)"
   ]
  },
  {
   "cell_type": "code",
   "execution_count": 71,
   "metadata": {},
   "outputs": [
    {
     "name": "stdout",
     "output_type": "stream",
     "text": [
      "Top 10 Discounted Product\n",
      "+----+-------------------------------------------------+--------------+\n",
      "|pid |product                                          |total_discount|\n",
      "+----+-------------------------------------------------+--------------+\n",
      "|236 |Verhaeghe Barbe Ruby Fruit Beer / 7.7% / 0.33l   |121138.0      |\n",
      "|654 |Verhaeghe Barbe Ruby / fruit beer / 7,7%         |120678.0      |\n",
      "|717 |Karpachcho                                       |96756.0       |\n",
      "|566 |Jaws Atomnaja Prachechnaja / Ipa / 7,2% / 0,5 but|94921.0       |\n",
      "|2443|Schneider Weisse TAP 7 Majn Orig Barrel          |71873.0       |\n",
      "|2098|MELODY Red Button You Me Him Barrel              |66856.0       |\n",
      "|296 |Jaws American Pale Ale / APA / 5.5% / 0,5 but    |63202.0       |\n",
      "|3311|Gaffel Kolsch Barrel30                           |62832.0       |\n",
      "|637 |Weihenstephaner HEFE WEISSBIER / 5,4%            |61611.0       |\n",
      "|1594|Weihenstephaner Original Barrel                  |54155.0       |\n",
      "+----+-------------------------------------------------+--------------+\n",
      "\n"
     ]
    }
   ],
   "source": [
    "print(\"Top 10 Discounted Product\")\n",
    "spark.sql(\"\"\"\n",
    "SELECT\n",
    "    pid,\n",
    "    product,\n",
    "    round(sum(discount)) total_discount\n",
    "FROM SALES\n",
    "GROUP BY 1,2\n",
    "ORDER BY 3 DESC\n",
    "LIMIT 10\n",
    "\"\"\").show(truncate = False)"
   ]
  },
  {
   "cell_type": "code",
   "execution_count": 75,
   "metadata": {},
   "outputs": [
    {
     "name": "stdout",
     "output_type": "stream",
     "text": [
      "Top 10 Discounted Product with Profit\n",
      "+----+-------------------------------------------------+------------+--------------+\n",
      "|pid |product                                          |total_profit|total_discount|\n",
      "+----+-------------------------------------------------+------------+--------------+\n",
      "|236 |Verhaeghe Barbe Ruby Fruit Beer / 7.7% / 0.33l   |284836.0    |121138.0      |\n",
      "|654 |Verhaeghe Barbe Ruby / fruit beer / 7,7%         |625985.0    |120678.0      |\n",
      "|717 |Karpachcho                                       |929959.0    |96756.0       |\n",
      "|566 |Jaws Atomnaja Prachechnaja / Ipa / 7,2% / 0,5 but|383735.0    |94921.0       |\n",
      "|2443|Schneider Weisse TAP 7 Majn Orig Barrel          |719622.0    |71873.0       |\n",
      "|2098|MELODY Red Button You Me Him Barrel              |201556.0    |66856.0       |\n",
      "|296 |Jaws American Pale Ale / APA / 5.5% / 0,5 but    |248527.0    |63202.0       |\n",
      "|3311|Gaffel Kolsch Barrel30                           |463602.0    |62832.0       |\n",
      "|637 |Weihenstephaner HEFE WEISSBIER / 5,4%            |438522.0    |61611.0       |\n",
      "|1594|Weihenstephaner Original Barrel                  |462695.0    |54155.0       |\n",
      "+----+-------------------------------------------------+------------+--------------+\n",
      "\n"
     ]
    }
   ],
   "source": [
    "print(\"Top 10 Discounted Product with Profit\")\n",
    "spark.sql(\"\"\"\n",
    "SELECT\n",
    "    pid,\n",
    "    product,\n",
    "    round(sum(profit)) total_profit,\n",
    "    round(sum(discount)) total_discount\n",
    "FROM SALES\n",
    "WHERE discount IS NOT NULL\n",
    "GROUP BY 1,2\n",
    "ORDER BY 4 DESC,3 DESC\n",
    "LIMIT 10\n",
    "\"\"\").show(truncate = False)"
   ]
  },
  {
   "cell_type": "code",
   "execution_count": 76,
   "metadata": {},
   "outputs": [],
   "source": [
    "spark.stop()"
   ]
  }
 ],
 "metadata": {
  "kernelspec": {
   "display_name": "Python 3",
   "language": "python",
   "name": "python3"
  },
  "language_info": {
   "codemirror_mode": {
    "name": "ipython",
    "version": 3
   },
   "file_extension": ".py",
   "mimetype": "text/x-python",
   "name": "python",
   "nbconvert_exporter": "python",
   "pygments_lexer": "ipython3",
   "version": "3.11.7"
  }
 },
 "nbformat": 4,
 "nbformat_minor": 2
}

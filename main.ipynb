{
 "cells": [
  {
   "cell_type": "code",
   "execution_count": 2,
   "metadata": {},
   "outputs": [],
   "source": [
    "import matplotlib.pyplot as plt\n",
    "from pyspark.sql import SparkSession\n",
    "from pyspark.sql.functions import col, sum, count, lit, when,expr\n",
    "from pyspark.sql.types import StructType, StructField, StringType, TimestampType, BooleanType, DoubleType, IntegerType, DateType"
   ]
  },
  {
   "cell_type": "code",
   "execution_count": 3,
   "metadata": {},
   "outputs": [
    {
     "name": "stderr",
     "output_type": "stream",
     "text": [
      "Setting default log level to \"WARN\".\n",
      "To adjust logging level use sc.setLogLevel(newLevel). For SparkR, use setLogLevel(newLevel).\n",
      "24/01/06 17:42:48 WARN NativeCodeLoader: Unable to load native-hadoop library for your platform... using builtin-java classes where applicable\n"
     ]
    },
    {
     "data": {
      "text/html": [
       "\n",
       "            <div>\n",
       "                <p><b>SparkSession - in-memory</b></p>\n",
       "                \n",
       "        <div>\n",
       "            <p><b>SparkContext</b></p>\n",
       "\n",
       "            <p><a href=\"http://pop-os:4040\">Spark UI</a></p>\n",
       "\n",
       "            <dl>\n",
       "              <dt>Version</dt>\n",
       "                <dd><code>v3.5.0</code></dd>\n",
       "              <dt>Master</dt>\n",
       "                <dd><code>local[*]</code></dd>\n",
       "              <dt>AppName</dt>\n",
       "                <dd><code>BreweryApp</code></dd>\n",
       "            </dl>\n",
       "        </div>\n",
       "        \n",
       "            </div>\n",
       "        "
      ],
      "text/plain": [
       "<pyspark.sql.session.SparkSession at 0x760af8fcd8a0>"
      ]
     },
     "execution_count": 3,
     "metadata": {},
     "output_type": "execute_result"
    }
   ],
   "source": [
    "spark = SparkSession.builder.appName(\"BreweryApp\").getOrCreate()\n",
    "spark"
   ]
  },
  {
   "cell_type": "code",
   "execution_count": 4,
   "metadata": {},
   "outputs": [],
   "source": [
    "product_range_path = './craft_beer_bar_sales/Product_range.csv'\n",
    "transactions_path = './craft_beer_bar_sales/Transactions.csv'"
   ]
  },
  {
   "cell_type": "markdown",
   "metadata": {},
   "source": [
    "# Product"
   ]
  },
  {
   "cell_type": "code",
   "execution_count": 5,
   "metadata": {},
   "outputs": [
    {
     "name": "stderr",
     "output_type": "stream",
     "text": [
      "                                                                                \r"
     ]
    },
    {
     "name": "stdout",
     "output_type": "stream",
     "text": [
      "+------------+-----------+-----------------------------------------------+------------+---------+-----------------+-----+---+\n",
      "|Product_code|Vendor_code|Name                                           |Retail_price|Base_unit|Country_of_Origin|Size |ABV|\n",
      "+------------+-----------+-----------------------------------------------+------------+---------+-----------------+-----+---+\n",
      "|5028        |NULL       |1 Symbiotica Apple 0.375                       |300.0       |Pieces   |Russia           |0.375|4.5|\n",
      "|4846        |NULL       |1 Symbiotica Hard Kombucha Renegade Aronia 0.33|200.0       |Pieces   |Russia           |0.33 |3.0|\n",
      "+------------+-----------+-----------------------------------------------+------------+---------+-----------------+-----+---+\n",
      "only showing top 2 rows\n",
      "\n"
     ]
    }
   ],
   "source": [
    "product_df = spark.read.csv(product_range_path, header=True)\n",
    "product_df.show(2, truncate = False)"
   ]
  },
  {
   "cell_type": "code",
   "execution_count": 6,
   "metadata": {},
   "outputs": [
    {
     "name": "stderr",
     "output_type": "stream",
     "text": [
      "24/01/06 17:43:04 WARN SparkStringUtils: Truncated the string representation of a plan since it was too large. This behavior can be adjusted by setting 'spark.sql.debug.maxToStringFields'.\n",
      "[Stage 4:>                                                          (0 + 1) / 1]\r"
     ]
    },
    {
     "name": "stdout",
     "output_type": "stream",
     "text": [
      "+-------+------------------+-----------+--------------------+-----------------+---------+-----------------+------------------+------------------+\n",
      "|summary|      Product_code|Vendor_code|                Name|     Retail_price|Base_unit|Country_of_Origin|              Size|               ABV|\n",
      "+-------+------------------+-----------+--------------------+-----------------+---------+-----------------+------------------+------------------+\n",
      "|  count|              5314|       4288|                5314|             4878|     4910|             4205|              4626|              4622|\n",
      "|   mean|2690.8447497177267|       NULL|                NULL|637.8395018450183|     NULL|             NULL|0.6269174232598252|7.0742730419731865|\n",
      "| stddev|1543.2178144494967|       NULL|                NULL|504.8950056344766|     NULL|             NULL|0.9532897768176336|2.4579696462642713|\n",
      "|    min|                10|        35K|1 Symbiotica Appl...|              1.0|     100g|              ???|              0.15|               0.5|\n",
      "|    max|               999|de Blaugies|               zavod|            990.0|   Pieces|   United Kingdom|              30.0|               9.9|\n",
      "+-------+------------------+-----------+--------------------+-----------------+---------+-----------------+------------------+------------------+\n",
      "\n"
     ]
    },
    {
     "name": "stderr",
     "output_type": "stream",
     "text": [
      "                                                                                \r"
     ]
    }
   ],
   "source": [
    "product_df.describe().show()"
   ]
  },
  {
   "cell_type": "code",
   "execution_count": 7,
   "metadata": {},
   "outputs": [
    {
     "name": "stdout",
     "output_type": "stream",
     "text": [
      "Count Distinct Product_code: 5314\n",
      "Count Distinct Vendor_code: 272\n",
      "Count Distinct Name: 5193\n",
      "Count Distinct Retail_price: 185\n",
      "Count Distinct Base_unit: 5\n",
      "Count Distinct Country_of_Origin: 29\n",
      "Count Distinct Size: 32\n",
      "Count Distinct ABV: 152\n"
     ]
    }
   ],
   "source": [
    "for column in product_df.columns:\n",
    "    col_cnt = product_df.select(column).distinct().count()\n",
    "    print(f\"Count Distinct {column}: {col_cnt}\")"
   ]
  },
  {
   "cell_type": "code",
   "execution_count": 8,
   "metadata": {},
   "outputs": [
    {
     "name": "stdout",
     "output_type": "stream",
     "text": [
      "+------------+-----------+----+------------+---------+-----------------+----+----+\n",
      "|Product_code|Vendor_code|Name|Retail_price|Base_unit|Country_of_Origin|Size| ABV|\n",
      "+------------+-----------+----+------------+---------+-----------------+----+----+\n",
      "|        5314|       4288|5314|        4878|     4910|             4205|4626|4622|\n",
      "+------------+-----------+----+------------+---------+-----------------+----+----+\n",
      "\n"
     ]
    }
   ],
   "source": [
    "not_null_counts = product_df.select([sum((~col(c).isNull()).cast(\"int\")).alias(c) for c in product_df.columns])\n",
    "not_null_counts.show()"
   ]
  },
  {
   "cell_type": "code",
   "execution_count": 9,
   "metadata": {},
   "outputs": [
    {
     "data": {
      "image/png": "[encoded data removed]",
      "text/plain": [
       "<Figure size 640x480 with 1 Axes>"
      ]
     },
     "metadata": {},
     "output_type": "display_data"
    }
   ],
   "source": [
    "not_null_counts_pandas = not_null_counts.toPandas().transpose()\n",
    "ax = not_null_counts_pandas.plot(kind=\"bar\", stacked=True, legend=False, colormap=\"plasma\")\n",
    "plt.title(\"Product Value Counts in Columns\")\n",
    "plt.xlabel(\"Columns\")\n",
    "plt.ylabel(\"Number of Null Values\")\n",
    "plt.axhline(y=product_df.count(), color='red', linestyle='--', label='Upper Limit')\n",
    "plt.show()"
   ]
  },
  {
   "cell_type": "markdown",
   "metadata": {},
   "source": [
    "# Transactions"
   ]
  },
  {
   "cell_type": "code",
   "execution_count": 10,
   "metadata": {},
   "outputs": [
    {
     "name": "stdout",
     "output_type": "stream",
     "text": [
      "+--------------------------+------------+------+-----------+---------------+------+-----------------+-------------------+\n",
      "|Date_and_time_of_unloading|Product_code|Amount|Sale_amount|Discount_amount|Profit|Percentage_markup|Discount_percentage|\n",
      "+--------------------------+------------+------+-----------+---------------+------+-----------------+-------------------+\n",
      "|2020-01-01 23:00:00       |144         |1.0   |280.0      |NULL           |155.0 |124.0            |NULL               |\n",
      "|2020-01-01 23:00:00       |209         |2.0   |545.73     |294.27         |75.73 |16.11            |35.03              |\n",
      "+--------------------------+------------+------+-----------+---------------+------+-----------------+-------------------+\n",
      "only showing top 2 rows\n",
      "\n"
     ]
    }
   ],
   "source": [
    "transaction_df = spark.read.csv(transactions_path, header=True)\n",
    "transaction_df.show(2, truncate = False)"
   ]
  },
  {
   "cell_type": "code",
   "execution_count": 11,
   "metadata": {},
   "outputs": [
    {
     "name": "stderr",
     "output_type": "stream",
     "text": [
      "[Stage 64:>                                                         (0 + 1) / 1]\r"
     ]
    },
    {
     "name": "stdout",
     "output_type": "stream",
     "text": [
      "+-------+--------------------------+------------------+------------------+------------------+------------------+------------------+------------------+-------------------+\n",
      "|summary|Date_and_time_of_unloading|      Product_code|            Amount|       Sale_amount|   Discount_amount|            Profit| Percentage_markup|Discount_percentage|\n",
      "+-------+--------------------------+------------------+------------------+------------------+------------------+------------------+------------------+-------------------+\n",
      "|  count|                     50084|             50084|             50084|             50033|             39882|             50070|             48145|              39882|\n",
      "|   mean|                      NULL| 2153.160031147672|3.5531462542927743|1429.7866767933122|243.76132290256055| 705.9019868184575|109.18451116419139|  17.25131287297584|\n",
      "| stddev|                      NULL|1367.3577054997945| 5.485805401475245| 2419.585454701753|  405.902060386317|1352.6286110631174|1182.5387533023177|  16.60807520389805|\n",
      "|    min|       2020-01-01 23:00:00|               101|             0.033|              0.41|              0.01|             -0.12|             -0.01|                0.0|\n",
      "|    max|       2022-09-18 15:00:00|                99|              98.0|           9997.49|            999.58|           9997.49|             99.99|              99.91|\n",
      "+-------+--------------------------+------------------+------------------+------------------+------------------+------------------+------------------+-------------------+\n",
      "\n"
     ]
    },
    {
     "name": "stderr",
     "output_type": "stream",
     "text": [
      "                                                                                \r"
     ]
    }
   ],
   "source": [
    "transaction_df.describe().show()"
   ]
  },
  {
   "cell_type": "code",
   "execution_count": 12,
   "metadata": {},
   "outputs": [
    {
     "name": "stdout",
     "output_type": "stream",
     "text": [
      "Count Distinct Date_and_time_of_unloading: 458\n",
      "Count Distinct Product_code: 3956\n",
      "Count Distinct Amount: 617\n",
      "Count Distinct Sale_amount: 22573\n",
      "Count Distinct Discount_amount: 17844\n",
      "Count Distinct Profit: 27942\n",
      "Count Distinct Percentage_markup: 13926\n",
      "Count Distinct Discount_percentage: 3630\n"
     ]
    }
   ],
   "source": [
    "for column in transaction_df.columns:\n",
    "    col_cnt = transaction_df.select(column).distinct().count()\n",
    "    print(f\"Count Distinct {column}: {col_cnt}\")"
   ]
  },
  {
   "cell_type": "code",
   "execution_count": 13,
   "metadata": {},
   "outputs": [
    {
     "name": "stdout",
     "output_type": "stream",
     "text": [
      "+--------------------------+------------+------+-----------+---------------+------+-----------------+-------------------+\n",
      "|Date_and_time_of_unloading|Product_code|Amount|Sale_amount|Discount_amount|Profit|Percentage_markup|Discount_percentage|\n",
      "+--------------------------+------------+------+-----------+---------------+------+-----------------+-------------------+\n",
      "|                     50084|       50084| 50084|      50033|          39882| 50070|            48145|              39882|\n",
      "+--------------------------+------------+------+-----------+---------------+------+-----------------+-------------------+\n",
      "\n"
     ]
    }
   ],
   "source": [
    "not_null_counts = transaction_df.select([sum((~col(c).isNull()).cast(\"int\")).alias(c) for c in transaction_df.columns])\n",
    "not_null_counts.show()"
   ]
  },
  {
   "cell_type": "code",
   "execution_count": 14,
   "metadata": {},
   "outputs": [
    {
     "data": {
      "image/png": "[encoded data removed]",
      "text/plain": [
       "<Figure size 640x480 with 1 Axes>"
      ]
     },
     "metadata": {},
     "output_type": "display_data"
    }
   ],
   "source": [
    "not_null_counts_pandas = not_null_counts.toPandas().transpose()\n",
    "ax = not_null_counts_pandas.plot(kind=\"bar\", stacked=True, legend=False, colormap=\"plasma\")\n",
    "plt.title(\"Transactions Value Counts in Columns\")\n",
    "plt.xlabel(\"Columns\")\n",
    "plt.ylabel(\"Number of Null Values\")\n",
    "plt.axhline(y=transaction_df.count(), color='red', linestyle='--', label='Upper Limit')\n",
    "plt.show()"
   ]
  },
  {
   "cell_type": "markdown",
   "metadata": {},
   "source": [
    "# Combined DataFrame Sales"
   ]
  },
  {
   "cell_type": "code",
   "execution_count": 15,
   "metadata": {},
   "outputs": [
    {
     "name": "stdout",
     "output_type": "stream",
     "text": [
      "+--------------------------+------------+-----------+--------------------+------------+---------+-----------------+----+----+------+-----------+---------------+------+-----------------+-------------------+\n",
      "|Date_and_time_of_unloading|Product_code|Vendor_code|                Name|Retail_price|Base_unit|Country_of_Origin|Size| ABV|Amount|Sale_amount|Discount_amount|Profit|Percentage_markup|Discount_percentage|\n",
      "+--------------------------+------------+-----------+--------------------+------------+---------+-----------------+----+----+------+-----------+---------------+------+-----------------+-------------------+\n",
      "|       2020-01-01 23:00:00|         144|    AF Brew|AF Brew Zimnjaja ...|       280.0|   Pieces|           Russia|0.33|10.3|   1.0|      280.0|           NULL| 155.0|            124.0|               NULL|\n",
      "|       2020-01-01 23:00:00|         209|    Pohjala|Pohjala Mutant Di...|       420.0|   Pieces|          Estonia|0.33| 6.8|   2.0|     545.73|         294.27| 75.73|            16.11|              35.03|\n",
      "+--------------------------+------------+-----------+--------------------+------------+---------+-----------------+----+----+------+-----------+---------------+------+-----------------+-------------------+\n",
      "only showing top 2 rows\n",
      "\n"
     ]
    }
   ],
   "source": [
    "sales_df = transaction_df\\\n",
    "    .join(product_df, transaction_df['product_code'] == product_df['Product_code'], how=\"left\")\\\n",
    "        .drop(product_df['Product_code'])\\\n",
    "        .select(\"Date_and_time_of_unloading\",  \"Product_code\",  \"Vendor_code\",  \"Name\",  \"Retail_price\",  \"Base_unit\",  \"Country_of_Origin\",  \"Size\",  \"ABV\",  \"Amount\",  \"Sale_amount\",  \"Discount_amount\",  \"Profit\",  \"Percentage_markup\",  \"Discount_percentage\")\n",
    "sales_df.show(2)"
   ]
  },
  {
   "cell_type": "markdown",
   "metadata": {},
   "source": [
    "# Data Cleaning"
   ]
  },
  {
   "cell_type": "code",
   "execution_count": 16,
   "metadata": {
    "vscode": {
     "languageId": "sql"
    }
   },
   "outputs": [
    {
     "name": "stdout",
     "output_type": "stream",
     "text": [
      "Total Product Rows: 5314\n",
      "Total Transactions Rows: 50084\n",
      "Total Sales Rows: 50084\n"
     ]
    }
   ],
   "source": [
    "print(\"Total Product Rows:\", product_df.count())\n",
    "print(\"Total Transactions Rows:\", transaction_df.count())\n",
    "print(\"Total Sales Rows:\", sales_df.count())"
   ]
  },
  {
   "cell_type": "code",
   "execution_count": 17,
   "metadata": {
    "vscode": {
     "languageId": "sql"
    }
   },
   "outputs": [
    {
     "name": "stdout",
     "output_type": "stream",
     "text": [
      " Total Number of Products: 5314\n",
      "Inactive List of Products: 1358\n"
     ]
    }
   ],
   "source": [
    "inactive_product_count = (\n",
    "    product_df\n",
    "    .join(\n",
    "        transaction_df.select(\"product_code\").distinct(),\n",
    "        on=\"product_code\",\n",
    "        how=\"left_anti\"\n",
    "    )\n",
    "    .count()\n",
    ")\n",
    "print(\" Total Number of Products:\", product_df.count())\n",
    "print(\"Inactive List of Products:\", inactive_product_count)"
   ]
  },
  {
   "cell_type": "code",
   "execution_count": 18,
   "metadata": {},
   "outputs": [
    {
     "name": "stdout",
     "output_type": "stream",
     "text": [
      "Count Distinct Date_and_time_of_unloading: 458\n",
      "Count Distinct Product_code: 3956\n",
      "Count Distinct Vendor_code: 230\n",
      "Count Distinct Name: 3928\n",
      "Count Distinct Retail_price: 176\n",
      "Count Distinct Base_unit: 4\n",
      "Count Distinct Country_of_Origin: 27\n",
      "Count Distinct Size: 30\n",
      "Count Distinct ABV: 144\n",
      "Count Distinct Amount: 617\n",
      "Count Distinct Sale_amount: 22573\n",
      "Count Distinct Discount_amount: 17844\n",
      "Count Distinct Profit: 27942\n",
      "Count Distinct Percentage_markup: 13926\n",
      "Count Distinct Discount_percentage: 3630\n"
     ]
    }
   ],
   "source": [
    "for column in sales_df.columns:\n",
    "    col_cnt = sales_df.select(column).distinct().count()\n",
    "    print(f\"Count Distinct {column}: {col_cnt}\")"
   ]
  },
  {
   "cell_type": "markdown",
   "metadata": {},
   "source": [
    "## Null Values"
   ]
  },
  {
   "cell_type": "code",
   "execution_count": 19,
   "metadata": {},
   "outputs": [
    {
     "name": "stdout",
     "output_type": "stream",
     "text": [
      "Not Null Count\n",
      "+--------------------------+------------+-----------+-----+------------+---------+-----------------+-----+-----+------+-----------+---------------+------+-----------------+-------------------+\n",
      "|Date_and_time_of_unloading|Product_code|Vendor_code| Name|Retail_price|Base_unit|Country_of_Origin| Size|  ABV|Amount|Sale_amount|Discount_amount|Profit|Percentage_markup|Discount_percentage|\n",
      "+--------------------------+------------+-----------+-----+------------+---------+-----------------+-----+-----+------+-----------+---------------+------+-----------------+-------------------+\n",
      "|                     50084|       50084|      43760|50084|       50081|    50084|            41575|44248|44234| 50084|      50033|          39882| 50070|            48145|              39882|\n",
      "+--------------------------+------------+-----------+-----+------------+---------+-----------------+-----+-----+------+-----------+---------------+------+-----------------+-------------------+\n",
      "\n"
     ]
    }
   ],
   "source": [
    "not_null_counts = sales_df.select([sum((~col(c).isNull()).cast(\"int\")).alias(c) for c in sales_df.columns])\n",
    "print(\"Not Null Count\")\n",
    "not_null_counts.show()"
   ]
  },
  {
   "cell_type": "code",
   "execution_count": 20,
   "metadata": {},
   "outputs": [
    {
     "data": {
      "image/png": "[encoded data removed]",
      "text/plain": [
       "<Figure size 640x480 with 1 Axes>"
      ]
     },
     "metadata": {},
     "output_type": "display_data"
    }
   ],
   "source": [
    "not_null_counts_pandas = not_null_counts.toPandas().transpose()\n",
    "ax = not_null_counts_pandas.plot(kind=\"bar\", stacked=True, legend=False, colormap=\"plasma\")\n",
    "plt.title(\"Sales Value Counts in Columns\")\n",
    "plt.xlabel(\"Columns\")\n",
    "plt.ylabel(\"Number of Null Values\")\n",
    "plt.axhline(y=sales_df.count(), color='red', linestyle='--', label='Upper Limit')\n",
    "plt.show()"
   ]
  },
  {
   "cell_type": "code",
   "execution_count": 21,
   "metadata": {},
   "outputs": [
    {
     "name": "stdout",
     "output_type": "stream",
     "text": [
      "Null Percentage\n"
     ]
    },
    {
     "data": {
      "text/html": [
       "<div>\n",
       "<style scoped>\n",
       "    .dataframe tbody tr th:only-of-type {\n",
       "        vertical-align: middle;\n",
       "    }\n",
       "\n",
       "    .dataframe tbody tr th {\n",
       "        vertical-align: top;\n",
       "    }\n",
       "\n",
       "    .dataframe thead th {\n",
       "        text-align: right;\n",
       "    }\n",
       "</style>\n",
       "<table border=\"1\" class=\"dataframe\">\n",
       "  <thead>\n",
       "    <tr style=\"text-align: right;\">\n",
       "      <th></th>\n",
       "      <th>0</th>\n",
       "    </tr>\n",
       "  </thead>\n",
       "  <tbody>\n",
       "    <tr>\n",
       "      <th>Date_and_time_of_unloading</th>\n",
       "      <td>0.000000</td>\n",
       "    </tr>\n",
       "    <tr>\n",
       "      <th>Product_code</th>\n",
       "      <td>0.000000</td>\n",
       "    </tr>\n",
       "    <tr>\n",
       "      <th>Vendor_code</th>\n",
       "      <td>12.626787</td>\n",
       "    </tr>\n",
       "    <tr>\n",
       "      <th>Name</th>\n",
       "      <td>0.000000</td>\n",
       "    </tr>\n",
       "    <tr>\n",
       "      <th>Retail_price</th>\n",
       "      <td>0.005990</td>\n",
       "    </tr>\n",
       "    <tr>\n",
       "      <th>Base_unit</th>\n",
       "      <td>0.000000</td>\n",
       "    </tr>\n",
       "    <tr>\n",
       "      <th>Country_of_Origin</th>\n",
       "      <td>16.989458</td>\n",
       "    </tr>\n",
       "    <tr>\n",
       "      <th>Size</th>\n",
       "      <td>11.652424</td>\n",
       "    </tr>\n",
       "    <tr>\n",
       "      <th>ABV</th>\n",
       "      <td>11.680377</td>\n",
       "    </tr>\n",
       "    <tr>\n",
       "      <th>Amount</th>\n",
       "      <td>0.000000</td>\n",
       "    </tr>\n",
       "    <tr>\n",
       "      <th>Sale_amount</th>\n",
       "      <td>0.101829</td>\n",
       "    </tr>\n",
       "    <tr>\n",
       "      <th>Discount_amount</th>\n",
       "      <td>20.369779</td>\n",
       "    </tr>\n",
       "    <tr>\n",
       "      <th>Profit</th>\n",
       "      <td>0.027953</td>\n",
       "    </tr>\n",
       "    <tr>\n",
       "      <th>Percentage_markup</th>\n",
       "      <td>3.871496</td>\n",
       "    </tr>\n",
       "    <tr>\n",
       "      <th>Discount_percentage</th>\n",
       "      <td>20.369779</td>\n",
       "    </tr>\n",
       "  </tbody>\n",
       "</table>\n",
       "</div>"
      ],
      "text/plain": [
       "                                    0\n",
       "Date_and_time_of_unloading   0.000000\n",
       "Product_code                 0.000000\n",
       "Vendor_code                 12.626787\n",
       "Name                         0.000000\n",
       "Retail_price                 0.005990\n",
       "Base_unit                    0.000000\n",
       "Country_of_Origin           16.989458\n",
       "Size                        11.652424\n",
       "ABV                         11.680377\n",
       "Amount                       0.000000\n",
       "Sale_amount                  0.101829\n",
       "Discount_amount             20.369779\n",
       "Profit                       0.027953\n",
       "Percentage_markup            3.871496\n",
       "Discount_percentage         20.369779"
      ]
     },
     "metadata": {},
     "output_type": "display_data"
    }
   ],
   "source": [
    "total_sales = sales_df.count()\n",
    "null_percentage_df = sales_df.agg(*[(sum(col(c).isNull().cast(\"int\"))*100 / total_sales).alias(c) for c in sales_df.columns])\n",
    "null_percentage_pandas = null_percentage_df.toPandas().transpose()\n",
    "print(\"Null Percentage\")\n",
    "display(null_percentage_pandas)"
   ]
  },
  {
   "cell_type": "code",
   "execution_count": 22,
   "metadata": {},
   "outputs": [
    {
     "name": "stdout",
     "output_type": "stream",
     "text": [
      "Null Value Count\n",
      "+--------------------------+------------+-----------+----+------------+---------+-----------------+----+----+------+-----------+---------------+------+-----------------+-------------------+\n",
      "|Date_and_time_of_unloading|Product_code|Vendor_code|Name|Retail_price|Base_unit|Country_of_Origin|Size| ABV|Amount|Sale_amount|Discount_amount|Profit|Percentage_markup|Discount_percentage|\n",
      "+--------------------------+------------+-----------+----+------------+---------+-----------------+----+----+------+-----------+---------------+------+-----------------+-------------------+\n",
      "|                         0|           0|       6324|   0|           3|        0|             8509|5836|5850|     0|         51|          10202|    14|             1939|              10202|\n",
      "+--------------------------+------------+-----------+----+------------+---------+-----------------+----+----+------+-----------+---------------+------+-----------------+-------------------+\n",
      "\n"
     ]
    }
   ],
   "source": [
    "null_counts = sales_df.select([sum(col(c).isNull().cast(\"int\")).alias(c) for c in sales_df.columns])\n",
    "print(\"Null Value Count\")\n",
    "null_counts.show()"
   ]
  },
  {
   "cell_type": "code",
   "execution_count": 23,
   "metadata": {},
   "outputs": [
    {
     "name": "stdout",
     "output_type": "stream",
     "text": [
      "Sales Product without Retail Price\n",
      "+------------+-----------+\n",
      "|Product_code|       Name|\n",
      "+------------+-----------+\n",
      "|        2395|Soft drinks|\n",
      "|        3046|     Snacks|\n",
      "|        3046|     Snacks|\n",
      "+------------+-----------+\n",
      "\n"
     ]
    }
   ],
   "source": [
    "print('Sales Product without Retail Price')\n",
    "sales_df.filter(col('Retail_price').isNull()).select('Product_code', 'Name').show()"
   ]
  },
  {
   "cell_type": "code",
   "execution_count": 24,
   "metadata": {},
   "outputs": [
    {
     "name": "stdout",
     "output_type": "stream",
     "text": [
      "Name: Snacks\n",
      "+--------------------------+------------+-----------+------+------------+---------+-----------------+----+----+------+-----------+---------------+-------+-----------------+-------------------+\n",
      "|Date_and_time_of_unloading|Product_code|Vendor_code|  Name|Retail_price|Base_unit|Country_of_Origin|Size| ABV|Amount|Sale_amount|Discount_amount| Profit|Percentage_markup|Discount_percentage|\n",
      "+--------------------------+------------+-----------+------+------------+---------+-----------------+----+----+------+-----------+---------------+-------+-----------------+-------------------+\n",
      "|       2020-12-01 17:00:00|        3046|       NULL|Snacks|        NULL|   Pieces|             NULL|NULL|NULL|  24.0|    1877.19|         422.81|1877.19|             NULL|              18.38|\n",
      "|       2020-12-03 19:00:00|        3046|       NULL|Snacks|        NULL|   Pieces|             NULL|NULL|NULL|   8.0|     898.86|         201.14| 898.86|             NULL|              18.29|\n",
      "+--------------------------+------------+-----------+------+------------+---------+-----------------+----+----+------+-----------+---------------+-------+-----------------+-------------------+\n",
      "\n",
      "Vendor_code: Snacks\n",
      "+--------------------------+------------+-----------+--------------------+------------+---------+-----------------+----+----+------+-----------+---------------+------+-----------------+-------------------+\n",
      "|Date_and_time_of_unloading|Product_code|Vendor_code|                Name|Retail_price|Base_unit|Country_of_Origin|Size| ABV|Amount|Sale_amount|Discount_amount|Profit|Percentage_markup|Discount_percentage|\n",
      "+--------------------------+------------+-----------+--------------------+------------+---------+-----------------+----+----+------+-----------+---------------+------+-----------------+-------------------+\n",
      "|       2020-01-02 01:00:00|         519|     Snacks|Assorted nuts 100 gr|       250.0|   Pieces|             NULL|NULL|NULL|   1.0|      200.0|           NULL| 200.0|             NULL|               NULL|\n",
      "|       2020-01-02 01:00:00|        1032|     Snacks|Roasted Almonds 100g|       200.0|     100g|           Russia|NULL|NULL|   5.0|     927.18|          72.82|377.18|            68.58|               7.28|\n",
      "|       2020-01-03 01:00:00|         519|     Snacks|Assorted nuts 100 gr|       250.0|   Pieces|             NULL|NULL|NULL|   2.0|     379.17|          20.83|379.17|             NULL|               5.21|\n",
      "|       2020-01-03 01:00:00|         591|     Snacks|    Grissini portion|       150.0|   Pieces|             NULL|NULL|NULL|   2.0|     284.37|          15.63|179.37|           170.83|               5.21|\n",
      "|       2020-01-03 01:00:00|        1032|     Snacks|Roasted Almonds 100g|       200.0|     100g|           Russia|NULL|NULL|   4.0|     658.15|         141.85|218.15|            49.58|              17.73|\n",
      "+--------------------------+------------+-----------+--------------------+------------+---------+-----------------+----+----+------+-----------+---------------+------+-----------------+-------------------+\n",
      "only showing top 5 rows\n",
      "\n"
     ]
    }
   ],
   "source": [
    "print('Name: Snacks')\n",
    "sales_df.filter(col('Name') == 'Snacks').show(5)\n",
    "print('Vendor_code: Snacks')\n",
    "sales_df.filter(col('Vendor_code') == 'Snacks').show(5)"
   ]
  },
  {
   "cell_type": "code",
   "execution_count": 25,
   "metadata": {},
   "outputs": [
    {
     "name": "stdout",
     "output_type": "stream",
     "text": [
      "Vendor_Code Count\n",
      "+---------------+-----+\n",
      "|    Vendor_code|count|\n",
      "+---------------+-----+\n",
      "|           NULL| 6324|\n",
      "|           Jaws| 4014|\n",
      "|        AF Brew| 2756|\n",
      "|        BrewDog| 2067|\n",
      "|      Naparbier| 1839|\n",
      "|        Sobolev| 1507|\n",
      "|         Snacks| 1241|\n",
      "|Weihenstephaner| 1197|\n",
      "|        Bakunin| 1159|\n",
      "|      Mikkeller| 1103|\n",
      "+---------------+-----+\n",
      "only showing top 10 rows\n",
      "\n"
     ]
    }
   ],
   "source": [
    "print(\"Vendor_Code Count\")\n",
    "sales_df.groupBy('Vendor_code').count().orderBy('count', ascending = False).show(10)"
   ]
  },
  {
   "cell_type": "code",
   "execution_count": 26,
   "metadata": {},
   "outputs": [
    {
     "name": "stdout",
     "output_type": "stream",
     "text": [
      "Name: Soft drinks\n",
      "+--------------------------+------------+-----------+-----------+------------+---------+-----------------+----+----+------+-----------+---------------+--------+-----------------+-------------------+\n",
      "|Date_and_time_of_unloading|Product_code|Vendor_code|       Name|Retail_price|Base_unit|Country_of_Origin|Size| ABV|Amount|Sale_amount|Discount_amount|  Profit|Percentage_markup|Discount_percentage|\n",
      "+--------------------------+------------+-----------+-----------+------------+---------+-----------------+----+----+------+-----------+---------------+--------+-----------------+-------------------+\n",
      "|       2020-06-24 19:00:00|        2395|       NULL|Soft drinks|        NULL|   Pieces|             NULL|NULL|NULL|  50.0|   23249.31|           0.69|23249.31|             NULL|                0.0|\n",
      "+--------------------------+------------+-----------+-----------+------------+---------+-----------------+----+----+------+-----------+---------------+--------+-----------------+-------------------+\n",
      "\n"
     ]
    }
   ],
   "source": [
    "print('Name: Soft drinks')\n",
    "sales_df.filter(col('Name') == 'Soft drinks').show()"
   ]
  },
  {
   "cell_type": "code",
   "execution_count": 27,
   "metadata": {},
   "outputs": [],
   "source": [
    "# Remove Snacks & Soft Drinks: Vendor_code & Name\n",
    "sales_df = sales_df.filter(\n",
    "    (col('Vendor_code') != 'Snacks') | \n",
    "    (col('Name') != 'Snacks') \n",
    ")\n",
    "sales_df = sales_df.filter(\n",
    "    (col('Name') != 'Soft drinks')\n",
    ")"
   ]
  },
  {
   "cell_type": "code",
   "execution_count": 28,
   "metadata": {},
   "outputs": [
    {
     "name": "stdout",
     "output_type": "stream",
     "text": [
      "Sales with Vendor_code Null\n",
      "+--------------------------+------------+-----------+--------------------+------------+---------+-----------------+----+---+------+-----------+---------------+------+-----------------+-------------------+\n",
      "|Date_and_time_of_unloading|Product_code|Vendor_code|                Name|Retail_price|Base_unit|Country_of_Origin|Size|ABV|Amount|Sale_amount|Discount_amount|Profit|Percentage_markup|Discount_percentage|\n",
      "+--------------------------+------------+-----------+--------------------+------------+---------+-----------------+----+---+------+-----------+---------------+------+-----------------+-------------------+\n",
      "|       2020-01-01 23:00:00|        1019|       NULL|Cider Kerisac Bre...|       800.0|   Liters|             NULL| 1.0|5.0|  0.25|      160.0|           20.0| 81.25|           103.17|              11.11|\n",
      "|       2020-01-01 23:00:00|        1214|       NULL|Trabanco Sidra Na...|       650.0|   Pieces|             NULL| 0.7|6.0|   1.0|     419.66|         180.34|100.16|            31.35|              30.06|\n",
      "|       2020-01-01 23:00:00|        1434|       NULL|PRUNUS/ Salden's ...|       400.0|   Liters|             NULL| 1.0|5.4|   2.0|      780.0|          100.0| 404.0|           107.45|              11.36|\n",
      "|       2020-01-01 23:00:00|        1486|       NULL|Cider Bullevie Gr...|       700.0|   Pieces|           Russia|0.75|5.5|   1.0|     663.57|          36.43|263.57|            65.89|                5.2|\n",
      "|       2020-01-01 23:00:00|        1501|       NULL|Cider Val de Ranc...|       770.0|   Pieces|             NULL| 1.5|4.5|   1.0|      487.5|          212.5| 172.5|            54.76|              30.36|\n",
      "+--------------------------+------------+-----------+--------------------+------------+---------+-----------------+----+---+------+-----------+---------------+------+-----------------+-------------------+\n",
      "only showing top 5 rows\n",
      "\n",
      "Sales with Country_of_Origin Null\n",
      "+--------------------------+------------+-----------+--------------------+------------+---------+-----------------+----+---+------+-----------+---------------+------+-----------------+-------------------+\n",
      "|Date_and_time_of_unloading|Product_code|Vendor_code|                Name|Retail_price|Base_unit|Country_of_Origin|Size|ABV|Amount|Sale_amount|Discount_amount|Profit|Percentage_markup|Discount_percentage|\n",
      "+--------------------------+------------+-----------+--------------------+------------+---------+-----------------+----+---+------+-----------+---------------+------+-----------------+-------------------+\n",
      "|       2020-01-01 23:00:00|         581|    De Noel|Cider sparkling D...|       550.0|   Pieces|             NULL|0.75|4.5|   5.0|    2032.71|         717.29|615.21|             43.4|              26.08|\n",
      "|       2020-01-01 23:00:00|        1019|       NULL|Cider Kerisac Bre...|       800.0|   Liters|             NULL| 1.0|5.0|  0.25|      160.0|           20.0| 81.25|           103.17|              11.11|\n",
      "|       2020-01-01 23:00:00|        1214|       NULL|Trabanco Sidra Na...|       650.0|   Pieces|             NULL| 0.7|6.0|   1.0|     419.66|         180.34|100.16|            31.35|              30.06|\n",
      "|       2020-01-01 23:00:00|        1238| Red Button|Red Button In The...|       170.0|   Pieces|             NULL|0.33|5.5|   5.0|     1150.0|          100.0| 575.0|            100.0|                8.0|\n",
      "|       2020-01-01 23:00:00|        1434|       NULL|PRUNUS/ Salden's ...|       400.0|   Liters|             NULL| 1.0|5.4|   2.0|      780.0|          100.0| 404.0|           107.45|              11.36|\n",
      "+--------------------------+------------+-----------+--------------------+------------+---------+-----------------+----+---+------+-----------+---------------+------+-----------------+-------------------+\n",
      "only showing top 5 rows\n",
      "\n"
     ]
    }
   ],
   "source": [
    "print('Sales with Vendor_code Null')\n",
    "sales_df.filter(col('Vendor_code').isNull()).show(5)\n",
    "print('Sales with Country_of_Origin Null')\n",
    "sales_df.filter(col('Country_of_Origin').isNull()).show(5)"
   ]
  },
  {
   "cell_type": "code",
   "execution_count": 29,
   "metadata": {},
   "outputs": [
    {
     "name": "stdout",
     "output_type": "stream",
     "text": [
      "Sales with Size Null\n",
      "+--------------------------+------------+-----------+--------------------+------------+---------+-----------------+----+----+------+-----------+---------------+------+-----------------+-------------------+\n",
      "|Date_and_time_of_unloading|Product_code|Vendor_code|                Name|Retail_price|Base_unit|Country_of_Origin|Size| ABV|Amount|Sale_amount|Discount_amount|Profit|Percentage_markup|Discount_percentage|\n",
      "+--------------------------+------------+-----------+--------------------+------------+---------+-----------------+----+----+------+-----------+---------------+------+-----------------+-------------------+\n",
      "|       2020-01-02 01:00:00|         364|    Sobolev|      Cheese Stilton|       350.0|   Pieces|           Russia|NULL|NULL|   2.0|      629.9|           70.1| 359.9|            133.3|              10.01|\n",
      "|       2020-01-02 01:00:00|         380|    Sobolev|Cheese Belper Kno...|       300.0|   Pieces|           Russia|NULL|NULL|   1.0|      300.0|           NULL| 150.0|            100.0|               NULL|\n",
      "|       2020-01-02 01:00:00|         519|     Snacks|Assorted nuts 100 gr|       250.0|   Pieces|             NULL|NULL|NULL|   1.0|      200.0|           NULL| 200.0|             NULL|               NULL|\n",
      "|       2020-01-02 01:00:00|         898|    Sobolev|Cheese Rocamadour...|       350.0|   Pieces|           Russia|NULL|NULL|   1.0|      279.9|           70.1| 279.9|             NULL|              20.03|\n",
      "|       2020-01-02 01:00:00|        1030|       NULL|Lomtiki govjadina...|       200.0|   Pieces|             NULL|NULL|NULL|   1.0|     159.94|          40.06| 61.94|             63.2|              20.03|\n",
      "+--------------------------+------------+-----------+--------------------+------------+---------+-----------------+----+----+------+-----------+---------------+------+-----------------+-------------------+\n",
      "only showing top 5 rows\n",
      "\n"
     ]
    }
   ],
   "source": [
    "print('Sales with Size Null')\n",
    "sales_df.filter(col('Size').isNull()).show(5)"
   ]
  },
  {
   "cell_type": "code",
   "execution_count": 30,
   "metadata": {},
   "outputs": [],
   "source": [
    "# Remove Null Values from Vendor_Code & Country_of_Oriigin\n",
    "sales_df = sales_df.na.fill(\"Other\",[\"Vendor_code\", \"Country_of_Origin\"]) "
   ]
  },
  {
   "cell_type": "code",
   "execution_count": 31,
   "metadata": {},
   "outputs": [
    {
     "name": "stdout",
     "output_type": "stream",
     "text": [
      "+--------------------------+------------+------------------+--------------------+------------+---------+-----------------+----+---+------+-----------+---------------+-------+-----------------+-------------------+\n",
      "|Date_and_time_of_unloading|Product_code|       Vendor_code|                Name|Retail_price|Base_unit|Country_of_Origin|Size|ABV|Amount|Sale_amount|Discount_amount| Profit|Percentage_markup|Discount_percentage|\n",
      "+--------------------------+------------+------------------+--------------------+------------+---------+-----------------+----+---+------+-----------+---------------+-------+-----------------+-------------------+\n",
      "|       2020-04-05 18:00:00|        2028|The Garage Brewery|Garage Soup Barrel20|      1120.0|   Liters|              ???| 1.0|6.0|   0.5|      386.1|          133.9|  103.1|            36.43|              25.75|\n",
      "|       2020-04-05 18:00:00|        2050|The Garage Brewery|   GARAGE Montessori|       570.0|   Pieces|              ???|0.44|6.9|   2.0|     910.49|         229.51| 294.49|            47.81|              20.13|\n",
      "|       2020-04-05 18:00:00|        2051|The Garage Brewery|GARAGE Soup IPA 0.44|       630.0|   Pieces|              ???|0.44|6.0|   1.0|     439.51|         110.49| 145.51|            49.49|              20.09|\n",
      "|       2020-04-06 16:00:00|        2028|The Garage Brewery|Garage Soup Barrel20|      1120.0|   Liters|              ???| 1.0|6.0|  1.75|    1466.11|         353.89| 475.61|            48.02|              19.44|\n",
      "|       2020-04-07 16:00:00|        2028|The Garage Brewery|Garage Soup Barrel20|      1120.0|   Liters|              ???| 1.0|6.0|   7.0|    5933.51|        1226.49|1971.51|            49.76|              17.13|\n",
      "+--------------------------+------------+------------------+--------------------+------------+---------+-----------------+----+---+------+-----------+---------------+-------+-----------------+-------------------+\n",
      "only showing top 5 rows\n",
      "\n"
     ]
    }
   ],
   "source": [
    "# Unknown Value in Country of Origin\n",
    "sales_df.filter(col('Country_of_Origin') == \"???\").show(5)"
   ]
  },
  {
   "cell_type": "code",
   "execution_count": 32,
   "metadata": {},
   "outputs": [],
   "source": [
    "# Remove Unknown Value in Country of Origin\n",
    "sales_df = sales_df.withColumn(\"Country_of_Origin\", when(col(\"Country_of_Origin\") == \"???\", \"Other\").otherwise(col(\"Country_of_Origin\")))"
   ]
  },
  {
   "cell_type": "code",
   "execution_count": 33,
   "metadata": {},
   "outputs": [
    {
     "name": "stdout",
     "output_type": "stream",
     "text": [
      "+--------------------------+------------+-----------+--------------------+------------+---------+-----------------+----+----+------+-----------+---------------+------+\n",
      "|Date_and_time_of_unloading|Product_code|Vendor_code|                Name|Retail_price|Base_unit|Country_of_Origin|Size| ABV|Amount|Sale_amount|Discount_amount|Profit|\n",
      "+--------------------------+------------+-----------+--------------------+------------+---------+-----------------+----+----+------+-----------+---------------+------+\n",
      "|       2020-01-01 23:00:00|         144|    AF Brew|AF Brew Zimnjaja ...|       280.0|   Pieces|           Russia|0.33|10.3|   1.0|      280.0|           NULL| 155.0|\n",
      "|       2020-01-01 23:00:00|         209|    Pohjala|Pohjala Mutant Di...|       420.0|   Pieces|          Estonia|0.33| 6.8|   2.0|     545.73|         294.27| 75.73|\n",
      "|       2020-01-01 23:00:00|         213|    Kerisac|Cider Kerisac Cid...|       650.0|   Pieces|           France| 1.0| 6.0|   2.0|    1265.05|          34.95|653.05|\n",
      "|       2020-01-01 23:00:00|         217|     Savoie|Cider Savoie Cidr...|       870.0|   Pieces|           France|0.75| 4.5|   1.0|      630.0|           70.0| 220.5|\n",
      "|       2020-01-01 23:00:00|         222|     Bellot|Cider Bellot Cidr...|       770.0|   Pieces|           France|0.75| 5.0|   2.0|    1104.75|         195.25|393.75|\n",
      "+--------------------------+------------+-----------+--------------------+------------+---------+-----------------+----+----+------+-----------+---------------+------+\n",
      "only showing top 5 rows\n",
      "\n"
     ]
    }
   ],
   "source": [
    "# Remove unrequired fields\n",
    "sales_df = sales_df.drop('Percentage_markup', 'Discount_percentage')\n",
    "sales_df.show(5)"
   ]
  },
  {
   "cell_type": "code",
   "execution_count": 34,
   "metadata": {},
   "outputs": [],
   "source": [
    "# Replacing Null with 0 for Discount\n",
    "sales_df = sales_df.withColumn(\"Discount_amount\", \\\n",
    "       when(col(\"Discount_amount\").isNull() ,0) \\\n",
    "          .otherwise(col(\"Discount_amount\"))) "
   ]
  },
  {
   "cell_type": "code",
   "execution_count": 35,
   "metadata": {},
   "outputs": [
    {
     "name": "stdout",
     "output_type": "stream",
     "text": [
      "Recalculate Sales_Amount\n",
      "+------------+------+---------------+-----------+--------+\n",
      "|Retail_price|Amount|Discount_amount|Sale_amount|cal_sale|\n",
      "+------------+------+---------------+-----------+--------+\n",
      "|       280.0|   1.0|              0|      280.0|   280.0|\n",
      "|       420.0|   2.0|         294.27|     545.73|  545.73|\n",
      "+------------+------+---------------+-----------+--------+\n",
      "only showing top 2 rows\n",
      "\n"
     ]
    }
   ],
   "source": [
    "temp_df = sales_df.withColumn('cal_sale', expr(\"round((Retail_price * Amount)-Discount_amount,2)\"))\\\n",
    "    .select('Retail_price', 'Amount', 'Discount_amount', 'Sale_amount', 'cal_sale')\n",
    "print('Recalculate Sales_Amount')\n",
    "temp_df.show(2)"
   ]
  },
  {
   "cell_type": "code",
   "execution_count": 36,
   "metadata": {},
   "outputs": [
    {
     "name": "stdout",
     "output_type": "stream",
     "text": [
      "Correct & Incorrect Sales Amount\n",
      "Correct: \n",
      "Incorrect:  15757\n"
     ]
    }
   ],
   "source": [
    "print('Correct & Incorrect Sales Amount')\n",
    "print(\"Correct: \",)\n",
    "print(\"Incorrect: \",temp_df.filter(col('Sale_amount')!=col('cal_sale')).count())"
   ]
  },
  {
   "cell_type": "code",
   "execution_count": 37,
   "metadata": {},
   "outputs": [
    {
     "data": {
      "image/png": "[encoded data removed]",
      "text/plain": [
       "<Figure size 800x500 with 1 Axes>"
      ]
     },
     "metadata": {},
     "output_type": "display_data"
    }
   ],
   "source": [
    "labels = ['Correct', 'Miscalculated']\n",
    " \n",
    "data = [\n",
    "    temp_df.filter(col('Sale_amount')==col('cal_sale')).count(),\n",
    "    temp_df.filter(col('Sale_amount')!=col('cal_sale')).count()\n",
    "]\n",
    " \n",
    "fig = plt.figure(figsize =(8, 5))\n",
    "plt.pie(data, labels = labels, startangle = 90, autopct='%1.1f%%')\n",
    "\n",
    "plt.title('Miscalculated Sales Amount Ratio')\n",
    " \n",
    "plt.show()"
   ]
  },
  {
   "cell_type": "code",
   "execution_count": 38,
   "metadata": {},
   "outputs": [
    {
     "name": "stdout",
     "output_type": "stream",
     "text": [
      "+--------------------------+------------+----------------+--------------------+------------+---------+-----------------+-----+----+------+-----------+---------------+------+\n",
      "|Date_and_time_of_unloading|Product_code|     Vendor_code|                Name|Retail_price|Base_unit|Country_of_Origin| Size| ABV|Amount|Sale_amount|Discount_amount|Profit|\n",
      "+--------------------------+------------+----------------+--------------------+------------+---------+-----------------+-----+----+------+-----------+---------------+------+\n",
      "|       2020-01-01 23:00:00|         144|         AF Brew|AF Brew Zimnjaja ...|       280.0|   Pieces|           Russia| 0.33|10.3|   1.0|      280.0|              0| 155.0|\n",
      "|       2020-01-01 23:00:00|         209|         Pohjala|Pohjala Mutant Di...|       420.0|   Pieces|          Estonia| 0.33| 6.8|   2.0|     545.73|         294.27| 75.73|\n",
      "|       2020-01-01 23:00:00|         213|         Kerisac|Cider Kerisac Cid...|       650.0|   Pieces|           France|  1.0| 6.0|   2.0|    1265.05|          34.95|653.05|\n",
      "|       2020-01-01 23:00:00|         217|          Savoie|Cider Savoie Cidr...|       870.0|   Pieces|           France| 0.75| 4.5|   1.0|      800.0|           70.0| 220.5|\n",
      "|       2020-01-01 23:00:00|         222|          Bellot|Cider Bellot Cidr...|       770.0|   Pieces|           France| 0.75| 5.0|   2.0|    1344.75|         195.25|393.75|\n",
      "|       2020-01-01 23:00:00|         243|            Boon|Boon Oude Geuze /...|       540.0|   Pieces|          Belgium|0.375| 7.0|   1.0|     382.36|         157.64|  1.36|\n",
      "|       2020-01-01 23:00:00|         258|       Verhaeghe|Verhaeghe Duchess...|       900.0|   Pieces|          Belgium| 0.75| 6.2|   1.0|     659.55|         240.45| 93.55|\n",
      "|       2020-01-01 23:00:00|         270|        Founders|Founders Rubaeus ...|       420.0|   Pieces|              USA|0.355| 5.7|   2.0|     597.82|         242.18| 35.82|\n",
      "|       2020-01-01 23:00:00|         271|         BrewDog|Brewdog Dead Pony...|       540.0|   Pieces|   United Kingdom| 0.66| 3.8|   1.0|     364.84|         175.16| 53.84|\n",
      "|       2020-01-01 23:00:00|         282|Schneider Weisse|Schneider Weisse ...|       370.0|   Pieces|          Germany|  0.5| 8.2|   1.0|      323.0|           47.0| 252.0|\n",
      "+--------------------------+------------+----------------+--------------------+------------+---------+-----------------+-----+----+------+-----------+---------------+------+\n",
      "only showing top 10 rows\n",
      "\n"
     ]
    }
   ],
   "source": [
    "# Correcting Sale_Amount with Actual Formula\n",
    "sales_df = sales_df.withColumn('Sale_amount', expr(\"round((Retail_price * Amount)-Discount_amount,2)\"))\n",
    "sales_df.show(10)"
   ]
  },
  {
   "cell_type": "markdown",
   "metadata": {},
   "source": [
    "## Casting Columns"
   ]
  },
  {
   "cell_type": "code",
   "execution_count": 39,
   "metadata": {},
   "outputs": [],
   "source": [
    "sales_df = sales_df\\\n",
    "    .withColumn('Entry_date', col('Date_and_time_of_unloading').cast(DateType()))\\\n",
    "    .drop('Date_and_time_of_unloading')"
   ]
  },
  {
   "cell_type": "code",
   "execution_count": 40,
   "metadata": {},
   "outputs": [],
   "source": [
    "sales_df = sales_df\\\n",
    "    .withColumn('Retail_price', col('Retail_price').cast(DoubleType()))\\\n",
    "    .withColumn('Size', col('Size').cast(DoubleType()))\\\n",
    "    .withColumn('ABV', col('ABV').cast(DoubleType()))\\\n",
    "    .withColumn('Amount', col('Amount').cast(DoubleType()))\\\n",
    "    .withColumn('Sale_amount', col('Sale_amount').cast(DoubleType()))\\\n",
    "    .withColumn('Discount_amount', col('Discount_amount').cast(DoubleType()))\\\n",
    "    .withColumn('Profit', col('Profit').cast(DoubleType()))"
   ]
  },
  {
   "cell_type": "code",
   "execution_count": 41,
   "metadata": {},
   "outputs": [
    {
     "name": "stdout",
     "output_type": "stream",
     "text": [
      "Product_code string\n",
      "Vendor_code string\n",
      "Name string\n",
      "Retail_price double\n",
      "Base_unit string\n",
      "Country_of_Origin string\n",
      "Size double\n",
      "ABV double\n",
      "Amount double\n",
      "Sale_amount double\n",
      "Discount_amount double\n",
      "Profit double\n",
      "Entry_date date\n"
     ]
    }
   ],
   "source": [
    "for column in sales_df.dtypes:\n",
    "    print(column[0],column[1])"
   ]
  },
  {
   "cell_type": "code",
   "execution_count": 42,
   "metadata": {},
   "outputs": [
    {
     "name": "stdout",
     "output_type": "stream",
     "text": [
      "+------------+----------------+--------------------+------------+---------+-----------------+-----+----+------+-----------+---------------+------+----------+\n",
      "|Product_code|     Vendor_code|                Name|Retail_price|Base_unit|Country_of_Origin| Size| ABV|Amount|Sale_amount|Discount_amount|Profit|Entry_date|\n",
      "+------------+----------------+--------------------+------------+---------+-----------------+-----+----+------+-----------+---------------+------+----------+\n",
      "|         144|         AF Brew|AF Brew Zimnjaja ...|       280.0|   Pieces|           Russia| 0.33|10.3|   1.0|      280.0|            0.0| 155.0|2020-01-01|\n",
      "|         209|         Pohjala|Pohjala Mutant Di...|       420.0|   Pieces|          Estonia| 0.33| 6.8|   2.0|     545.73|         294.27| 75.73|2020-01-01|\n",
      "|         213|         Kerisac|Cider Kerisac Cid...|       650.0|   Pieces|           France|  1.0| 6.0|   2.0|    1265.05|          34.95|653.05|2020-01-01|\n",
      "|         217|          Savoie|Cider Savoie Cidr...|       870.0|   Pieces|           France| 0.75| 4.5|   1.0|      800.0|           70.0| 220.5|2020-01-01|\n",
      "|         222|          Bellot|Cider Bellot Cidr...|       770.0|   Pieces|           France| 0.75| 5.0|   2.0|    1344.75|         195.25|393.75|2020-01-01|\n",
      "|         243|            Boon|Boon Oude Geuze /...|       540.0|   Pieces|          Belgium|0.375| 7.0|   1.0|     382.36|         157.64|  1.36|2020-01-01|\n",
      "|         258|       Verhaeghe|Verhaeghe Duchess...|       900.0|   Pieces|          Belgium| 0.75| 6.2|   1.0|     659.55|         240.45| 93.55|2020-01-01|\n",
      "|         270|        Founders|Founders Rubaeus ...|       420.0|   Pieces|              USA|0.355| 5.7|   2.0|     597.82|         242.18| 35.82|2020-01-01|\n",
      "|         271|         BrewDog|Brewdog Dead Pony...|       540.0|   Pieces|   United Kingdom| 0.66| 3.8|   1.0|     364.84|         175.16| 53.84|2020-01-01|\n",
      "|         282|Schneider Weisse|Schneider Weisse ...|       370.0|   Pieces|          Germany|  0.5| 8.2|   1.0|      323.0|           47.0| 252.0|2020-01-01|\n",
      "|         294|            Boon|Boon Geuze Mariag...|       600.0|   Pieces|          Belgium|0.375| 8.0|   1.0|     424.84|         175.16| 25.84|2020-01-01|\n",
      "|         298|            Jaws|Jaws Oatmeal Stou...|       220.0|   Pieces|           Russia|  0.5| 5.2|   1.0|      220.0|            0.0| 90.32|2020-01-01|\n",
      "|         386|         Pohjala|Pohjala Must Kuld...|       420.0|   Pieces|          Estonia| 0.33| 7.8|   1.0|      420.0|            0.0| 165.0|2020-01-01|\n",
      "|         457|Schneider Weisse|Schneider Weisse ...|       370.0|   Pieces|          Germany|  0.5| 8.2|   1.0|      270.0|          100.0|  51.0|2020-01-01|\n",
      "|         566|            Jaws|Jaws Atomnaja Pra...|       260.0|   Pieces|           Russia|  0.5| 7.0|   3.0|     669.42|         110.58|211.35|2020-01-01|\n",
      "|         581|         De Noel|Cider sparkling D...|       550.0|   Pieces|            Other| 0.75| 4.5|   5.0|    2032.71|         717.29|615.21|2020-01-01|\n",
      "|         615|         Brewski|Brewski Mango Hal...|       480.0|   Pieces|           Sweden| 0.33| 5.5|   1.0|     457.62|          22.38|162.62|2020-01-01|\n",
      "|         646|         AF Brew|AF Brew Black Mag...|       300.0|   Pieces|           Russia|  0.5| 5.8|   1.0|      300.0|            0.0| 150.0|2020-01-01|\n",
      "|         688|     Harviestoun|Harviestoun Old E...|       350.0|   Pieces|   United Kingdom| 0.33| 6.0|   1.0|     335.97|          14.03|133.25|2020-01-01|\n",
      "|         706|            Jaws|Wakardi Apple Cid...|       300.0|   Pieces|           Russia|  0.5| 4.9|   1.0|      300.0|            0.0| 73.27|2020-01-01|\n",
      "+------------+----------------+--------------------+------------+---------+-----------------+-----+----+------+-----------+---------------+------+----------+\n",
      "only showing top 20 rows\n",
      "\n"
     ]
    }
   ],
   "source": [
    "sales_df.show()"
   ]
  },
  {
   "cell_type": "markdown",
   "metadata": {},
   "source": [
    "## Rename Columns"
   ]
  },
  {
   "cell_type": "code",
   "execution_count": 43,
   "metadata": {},
   "outputs": [],
   "source": [
    "sales_df = sales_df.withColumnsRenamed({\n",
    "    \"Product_code\": \"pid\",\n",
    "    \"Vendor_code\": \"vendor\",\n",
    "    \"Name\": \"product\",\n",
    "    \"Retail_price\": \"retail_price\",\n",
    "    \"Base_unit\": \"base_unit\",\n",
    "    \"Country_of_Origin\": \"origin_country\",\n",
    "    \"Size\": \"size\",\n",
    "    \"ABV\": \"abv\",\n",
    "    \"Amount\": \"quantity\",\n",
    "    \"Sale_amount\": \"total_sale\",\n",
    "    \"Discount_amount\": \"discount\",\n",
    "    \"Profit\": \"profit\",\n",
    "    \"Entry_date\": \"entry_date\"\n",
    "})"
   ]
  },
  {
   "cell_type": "code",
   "execution_count": 44,
   "metadata": {},
   "outputs": [],
   "source": [
    "# Reorder Columns\n",
    "columns = sales_df.columns\n",
    "columns.insert(0, columns.pop())\n",
    "sales_df = sales_df.select(*columns)"
   ]
  },
  {
   "cell_type": "code",
   "execution_count": 45,
   "metadata": {},
   "outputs": [
    {
     "name": "stdout",
     "output_type": "stream",
     "text": [
      "+----------+---+----------------+--------------------+------------+---------+--------------+-----+----+--------+----------+--------+------+\n",
      "|entry_date|pid|          vendor|             product|retail_price|base_unit|origin_country| size| abv|quantity|total_sale|discount|profit|\n",
      "+----------+---+----------------+--------------------+------------+---------+--------------+-----+----+--------+----------+--------+------+\n",
      "|2020-01-01|144|         AF Brew|AF Brew Zimnjaja ...|       280.0|   Pieces|        Russia| 0.33|10.3|     1.0|     280.0|     0.0| 155.0|\n",
      "|2020-01-01|209|         Pohjala|Pohjala Mutant Di...|       420.0|   Pieces|       Estonia| 0.33| 6.8|     2.0|    545.73|  294.27| 75.73|\n",
      "|2020-01-01|213|         Kerisac|Cider Kerisac Cid...|       650.0|   Pieces|        France|  1.0| 6.0|     2.0|   1265.05|   34.95|653.05|\n",
      "|2020-01-01|217|          Savoie|Cider Savoie Cidr...|       870.0|   Pieces|        France| 0.75| 4.5|     1.0|     800.0|    70.0| 220.5|\n",
      "|2020-01-01|222|          Bellot|Cider Bellot Cidr...|       770.0|   Pieces|        France| 0.75| 5.0|     2.0|   1344.75|  195.25|393.75|\n",
      "|2020-01-01|243|            Boon|Boon Oude Geuze /...|       540.0|   Pieces|       Belgium|0.375| 7.0|     1.0|    382.36|  157.64|  1.36|\n",
      "|2020-01-01|258|       Verhaeghe|Verhaeghe Duchess...|       900.0|   Pieces|       Belgium| 0.75| 6.2|     1.0|    659.55|  240.45| 93.55|\n",
      "|2020-01-01|270|        Founders|Founders Rubaeus ...|       420.0|   Pieces|           USA|0.355| 5.7|     2.0|    597.82|  242.18| 35.82|\n",
      "|2020-01-01|271|         BrewDog|Brewdog Dead Pony...|       540.0|   Pieces|United Kingdom| 0.66| 3.8|     1.0|    364.84|  175.16| 53.84|\n",
      "|2020-01-01|282|Schneider Weisse|Schneider Weisse ...|       370.0|   Pieces|       Germany|  0.5| 8.2|     1.0|     323.0|    47.0| 252.0|\n",
      "|2020-01-01|294|            Boon|Boon Geuze Mariag...|       600.0|   Pieces|       Belgium|0.375| 8.0|     1.0|    424.84|  175.16| 25.84|\n",
      "|2020-01-01|298|            Jaws|Jaws Oatmeal Stou...|       220.0|   Pieces|        Russia|  0.5| 5.2|     1.0|     220.0|     0.0| 90.32|\n",
      "|2020-01-01|386|         Pohjala|Pohjala Must Kuld...|       420.0|   Pieces|       Estonia| 0.33| 7.8|     1.0|     420.0|     0.0| 165.0|\n",
      "|2020-01-01|457|Schneider Weisse|Schneider Weisse ...|       370.0|   Pieces|       Germany|  0.5| 8.2|     1.0|     270.0|   100.0|  51.0|\n",
      "|2020-01-01|566|            Jaws|Jaws Atomnaja Pra...|       260.0|   Pieces|        Russia|  0.5| 7.0|     3.0|    669.42|  110.58|211.35|\n",
      "|2020-01-01|581|         De Noel|Cider sparkling D...|       550.0|   Pieces|         Other| 0.75| 4.5|     5.0|   2032.71|  717.29|615.21|\n",
      "|2020-01-01|615|         Brewski|Brewski Mango Hal...|       480.0|   Pieces|        Sweden| 0.33| 5.5|     1.0|    457.62|   22.38|162.62|\n",
      "|2020-01-01|646|         AF Brew|AF Brew Black Mag...|       300.0|   Pieces|        Russia|  0.5| 5.8|     1.0|     300.0|     0.0| 150.0|\n",
      "|2020-01-01|688|     Harviestoun|Harviestoun Old E...|       350.0|   Pieces|United Kingdom| 0.33| 6.0|     1.0|    335.97|   14.03|133.25|\n",
      "|2020-01-01|706|            Jaws|Wakardi Apple Cid...|       300.0|   Pieces|        Russia|  0.5| 4.9|     1.0|     300.0|     0.0| 73.27|\n",
      "+----------+---+----------------+--------------------+------------+---------+--------------+-----+----+--------+----------+--------+------+\n",
      "only showing top 20 rows\n",
      "\n"
     ]
    }
   ],
   "source": [
    "sales_df.show()"
   ]
  },
  {
   "cell_type": "code",
   "execution_count": 46,
   "metadata": {},
   "outputs": [],
   "source": [
    "# sales_df.coalesce(1).write.csv(\"output/sales\", header = True)"
   ]
  },
  {
   "cell_type": "markdown",
   "metadata": {},
   "source": [
    "# Explore"
   ]
  },
  {
   "cell_type": "code",
   "execution_count": 47,
   "metadata": {},
   "outputs": [
    {
     "name": "stdout",
     "output_type": "stream",
     "text": [
      "+----------+---+----------------+--------------------+------------+---------+--------------+-----+----+--------+----------+--------+------+\n",
      "|entry_date|pid|          vendor|             product|retail_price|base_unit|origin_country| size| abv|quantity|total_sale|discount|profit|\n",
      "+----------+---+----------------+--------------------+------------+---------+--------------+-----+----+--------+----------+--------+------+\n",
      "|2020-01-01|144|         AF Brew|AF Brew Zimnjaja ...|       280.0|   Pieces|        Russia| 0.33|10.3|     1.0|     280.0|     0.0| 155.0|\n",
      "|2020-01-01|209|         Pohjala|Pohjala Mutant Di...|       420.0|   Pieces|       Estonia| 0.33| 6.8|     2.0|    545.73|  294.27| 75.73|\n",
      "|2020-01-01|213|         Kerisac|Cider Kerisac Cid...|       650.0|   Pieces|        France|  1.0| 6.0|     2.0|   1265.05|   34.95|653.05|\n",
      "|2020-01-01|217|          Savoie|Cider Savoie Cidr...|       870.0|   Pieces|        France| 0.75| 4.5|     1.0|     800.0|    70.0| 220.5|\n",
      "|2020-01-01|222|          Bellot|Cider Bellot Cidr...|       770.0|   Pieces|        France| 0.75| 5.0|     2.0|   1344.75|  195.25|393.75|\n",
      "|2020-01-01|243|            Boon|Boon Oude Geuze /...|       540.0|   Pieces|       Belgium|0.375| 7.0|     1.0|    382.36|  157.64|  1.36|\n",
      "|2020-01-01|258|       Verhaeghe|Verhaeghe Duchess...|       900.0|   Pieces|       Belgium| 0.75| 6.2|     1.0|    659.55|  240.45| 93.55|\n",
      "|2020-01-01|270|        Founders|Founders Rubaeus ...|       420.0|   Pieces|           USA|0.355| 5.7|     2.0|    597.82|  242.18| 35.82|\n",
      "|2020-01-01|271|         BrewDog|Brewdog Dead Pony...|       540.0|   Pieces|United Kingdom| 0.66| 3.8|     1.0|    364.84|  175.16| 53.84|\n",
      "|2020-01-01|282|Schneider Weisse|Schneider Weisse ...|       370.0|   Pieces|       Germany|  0.5| 8.2|     1.0|     323.0|    47.0| 252.0|\n",
      "|2020-01-01|294|            Boon|Boon Geuze Mariag...|       600.0|   Pieces|       Belgium|0.375| 8.0|     1.0|    424.84|  175.16| 25.84|\n",
      "|2020-01-01|298|            Jaws|Jaws Oatmeal Stou...|       220.0|   Pieces|        Russia|  0.5| 5.2|     1.0|     220.0|     0.0| 90.32|\n",
      "|2020-01-01|386|         Pohjala|Pohjala Must Kuld...|       420.0|   Pieces|       Estonia| 0.33| 7.8|     1.0|     420.0|     0.0| 165.0|\n",
      "|2020-01-01|457|Schneider Weisse|Schneider Weisse ...|       370.0|   Pieces|       Germany|  0.5| 8.2|     1.0|     270.0|   100.0|  51.0|\n",
      "|2020-01-01|566|            Jaws|Jaws Atomnaja Pra...|       260.0|   Pieces|        Russia|  0.5| 7.0|     3.0|    669.42|  110.58|211.35|\n",
      "|2020-01-01|581|         De Noel|Cider sparkling D...|       550.0|   Pieces|         Other| 0.75| 4.5|     5.0|   2032.71|  717.29|615.21|\n",
      "|2020-01-01|615|         Brewski|Brewski Mango Hal...|       480.0|   Pieces|        Sweden| 0.33| 5.5|     1.0|    457.62|   22.38|162.62|\n",
      "|2020-01-01|646|         AF Brew|AF Brew Black Mag...|       300.0|   Pieces|        Russia|  0.5| 5.8|     1.0|     300.0|     0.0| 150.0|\n",
      "|2020-01-01|688|     Harviestoun|Harviestoun Old E...|       350.0|   Pieces|United Kingdom| 0.33| 6.0|     1.0|    335.97|   14.03|133.25|\n",
      "|2020-01-01|706|            Jaws|Wakardi Apple Cid...|       300.0|   Pieces|        Russia|  0.5| 4.9|     1.0|     300.0|     0.0| 73.27|\n",
      "+----------+---+----------------+--------------------+------------+---------+--------------+-----+----+--------+----------+--------+------+\n",
      "only showing top 20 rows\n",
      "\n"
     ]
    }
   ],
   "source": [
    "sales_df.createOrReplaceTempView('sales')\n",
    "spark.sql(\"select * from sales\").show()"
   ]
  },
  {
   "cell_type": "code",
   "execution_count": 48,
   "metadata": {},
   "outputs": [
    {
     "name": "stdout",
     "output_type": "stream",
     "text": [
      "Top 10 Profit Product of All Time\n",
      "+----+-------------------------------------------------+------------+\n",
      "|pid |product                                          |total_profit|\n",
      "+----+-------------------------------------------------+------------+\n",
      "|717 |Karpachcho                                       |948219.0    |\n",
      "|2443|Schneider Weisse TAP 7 Majn Orig Barrel          |752042.0    |\n",
      "|654 |Verhaeghe Barbe Ruby / fruit beer / 7,7%         |627132.0    |\n",
      "|2392|Jaws Svit Stout Nitro Stout Barrel               |512213.0    |\n",
      "|1594|Weihenstephaner Original Barrel                  |485100.0    |\n",
      "|3311|Gaffel Kolsch Barrel30                           |467277.0    |\n",
      "|519 |Assorted nuts 100 gr                             |457259.0    |\n",
      "|637 |Weihenstephaner HEFE WEISSBIER / 5,4%            |454351.0    |\n",
      "|1564|Petrus Aged Red Barrel                           |397882.0    |\n",
      "|566 |Jaws Atomnaja Prachechnaja / Ipa / 7,2% / 0,5 but|391922.0    |\n",
      "+----+-------------------------------------------------+------------+\n",
      "\n"
     ]
    }
   ],
   "source": [
    "print(\"Top 10 Profit Product of All Time\")\n",
    "spark.sql(\"\"\"\n",
    "SELECT\n",
    "    pid,\n",
    "    product,\n",
    "    round(sum(profit)) total_profit\n",
    "FROM SALES\n",
    "GROUP BY 1,2\n",
    "ORDER BY 3 DESC\n",
    "LIMIT 10\n",
    "\"\"\").show(truncate = False)"
   ]
  },
  {
   "cell_type": "code",
   "execution_count": 49,
   "metadata": {},
   "outputs": [
    {
     "name": "stdout",
     "output_type": "stream",
     "text": [
      "Top 5 Loss Product of All Time\n",
      "+----+-------------------------------------+----------+\n",
      "|pid |product                              |total_loss|\n",
      "+----+-------------------------------------+----------+\n",
      "|2240|Brekeriet Pink Passion 4,7% Barrel   |-9301.0   |\n",
      "|1785|Naparbier Oude Gueuze / 6% / 0.75    |-8735.0   |\n",
      "|1474|Poppels Passion Pale Ale 5.2%        |-7781.0   |\n",
      "|334 |JAWS / American Pale Ale / APA / 5,5%|-7779.0   |\n",
      "|333 |JAWS / Oatmeal Stout / stout / 5,2%  |-7000.0   |\n",
      "+----+-------------------------------------+----------+\n",
      "\n"
     ]
    }
   ],
   "source": [
    "print(\"Top 5 Loss Product of All Time\")\n",
    "spark.sql(\"\"\"\n",
    "SELECT\n",
    "    pid,\n",
    "    product,\n",
    "    round(sum(profit)) total_loss\n",
    "FROM SALES\n",
    "WHERE profit < 0\n",
    "GROUP BY 1,2\n",
    "ORDER BY 3\n",
    "LIMIT 5\n",
    "\"\"\").show(truncate = False)"
   ]
  },
  {
   "cell_type": "code",
   "execution_count": 50,
   "metadata": {},
   "outputs": [
    {
     "name": "stdout",
     "output_type": "stream",
     "text": [
      "Top 5 Country By Sales\n",
      "+--------------+----------+\n",
      "|origin_country|total_sale|\n",
      "+--------------+----------+\n",
      "|Russia        |30917195  |\n",
      "|Belgium       |6803146   |\n",
      "|Germany       |6360224   |\n",
      "|United Kingdom|3081108   |\n",
      "|USA           |2542420   |\n",
      "+--------------+----------+\n",
      "\n"
     ]
    }
   ],
   "source": [
    "print(\"Top 5 Country By Sales\")\n",
    "spark.sql(\"\"\"\n",
    "SELECT\n",
    "    origin_country,\n",
    "    CAST(sum(total_sale) AS DECIMAL) total_sale\n",
    "FROM SALES\n",
    "WHERE origin_country <> 'Other'\n",
    "GROUP BY 1\n",
    "ORDER BY 2 DESC\n",
    "LIMIT 5\n",
    "\"\"\").show(truncate = False)"
   ]
  },
  {
   "cell_type": "code",
   "execution_count": 51,
   "metadata": {},
   "outputs": [
    {
     "name": "stdout",
     "output_type": "stream",
     "text": [
      "Top 5 Vendor By Sales\n",
      "+---------------+----------+\n",
      "|vendor         |total_sale|\n",
      "+---------------+----------+\n",
      "|Jaws           |7187389   |\n",
      "|AF Brew        |3979526   |\n",
      "|Zagovor        |2983394   |\n",
      "|Weihenstephaner|2972855   |\n",
      "|Verhaeghe      |2636706   |\n",
      "+---------------+----------+\n",
      "\n"
     ]
    }
   ],
   "source": [
    "print(\"Top 5 Vendor By Sales\")\n",
    "spark.sql(\"\"\"\n",
    "SELECT\n",
    "    vendor,\n",
    "    CAST(sum(total_sale) AS DECIMAL) total_sale\n",
    "FROM SALES\n",
    "WHERE vendor <> \"Other\"\n",
    "GROUP BY 1\n",
    "ORDER BY 2 DESC\n",
    "LIMIT 5\n",
    "\"\"\").show(truncate = False)"
   ]
  },
  {
   "cell_type": "code",
   "execution_count": 52,
   "metadata": {},
   "outputs": [
    {
     "name": "stdout",
     "output_type": "stream",
     "text": [
      "Top 10 Discounted Product\n",
      "+----+-------------------------------------------------+--------------+\n",
      "|pid |product                                          |total_discount|\n",
      "+----+-------------------------------------------------+--------------+\n",
      "|236 |Verhaeghe Barbe Ruby Fruit Beer / 7.7% / 0.33l   |121138.0      |\n",
      "|654 |Verhaeghe Barbe Ruby / fruit beer / 7,7%         |120678.0      |\n",
      "|717 |Karpachcho                                       |96756.0       |\n",
      "|566 |Jaws Atomnaja Prachechnaja / Ipa / 7,2% / 0,5 but|94921.0       |\n",
      "|2443|Schneider Weisse TAP 7 Majn Orig Barrel          |71873.0       |\n",
      "|2098|MELODY Red Button You Me Him Barrel              |66856.0       |\n",
      "|296 |Jaws American Pale Ale / APA / 5.5% / 0,5 but    |63202.0       |\n",
      "|3311|Gaffel Kolsch Barrel30                           |62832.0       |\n",
      "|637 |Weihenstephaner HEFE WEISSBIER / 5,4%            |61611.0       |\n",
      "|1594|Weihenstephaner Original Barrel                  |54155.0       |\n",
      "+----+-------------------------------------------------+--------------+\n",
      "\n"
     ]
    }
   ],
   "source": [
    "print(\"Top 10 Discounted Product\")\n",
    "spark.sql(\"\"\"\n",
    "SELECT\n",
    "    pid,\n",
    "    product,\n",
    "    round(sum(discount)) total_discount\n",
    "FROM SALES\n",
    "GROUP BY 1,2\n",
    "ORDER BY 3 DESC\n",
    "LIMIT 10\n",
    "\"\"\").show(truncate = False)"
   ]
  },
  {
   "cell_type": "code",
   "execution_count": 53,
   "metadata": {},
   "outputs": [
    {
     "name": "stdout",
     "output_type": "stream",
     "text": [
      "Top 10 Discounted Product with Profit\n",
      "+----+-------------------------------------------------+------------+--------------+\n",
      "|pid |product                                          |total_profit|total_discount|\n",
      "+----+-------------------------------------------------+------------+--------------+\n",
      "|236 |Verhaeghe Barbe Ruby Fruit Beer / 7.7% / 0.33l   |292142.0    |121138.0      |\n",
      "|654 |Verhaeghe Barbe Ruby / fruit beer / 7,7%         |627132.0    |120678.0      |\n",
      "|717 |Karpachcho                                       |948219.0    |96756.0       |\n",
      "|566 |Jaws Atomnaja Prachechnaja / Ipa / 7,2% / 0,5 but|391922.0    |94921.0       |\n",
      "|2443|Schneider Weisse TAP 7 Majn Orig Barrel          |752042.0    |71873.0       |\n",
      "|2098|MELODY Red Button You Me Him Barrel              |203114.0    |66856.0       |\n",
      "|296 |Jaws American Pale Ale / APA / 5.5% / 0,5 but    |257350.0    |63202.0       |\n",
      "|3311|Gaffel Kolsch Barrel30                           |467277.0    |62832.0       |\n",
      "|637 |Weihenstephaner HEFE WEISSBIER / 5,4%            |454351.0    |61611.0       |\n",
      "|1594|Weihenstephaner Original Barrel                  |485100.0    |54155.0       |\n",
      "+----+-------------------------------------------------+------------+--------------+\n",
      "\n"
     ]
    }
   ],
   "source": [
    "print(\"Top 10 Discounted Product with Profit\")\n",
    "spark.sql(\"\"\"\n",
    "SELECT\n",
    "    pid,\n",
    "    product,\n",
    "    round(sum(profit)) total_profit,\n",
    "    round(sum(discount)) total_discount\n",
    "FROM SALES\n",
    "WHERE discount IS NOT NULL\n",
    "GROUP BY 1,2\n",
    "ORDER BY 4 DESC,3 DESC\n",
    "LIMIT 10\n",
    "\"\"\").show(truncate = False)"
   ]
  },
  {
   "cell_type": "markdown",
   "metadata": {},
   "source": [
    "# Clustering\n",
    "Profitable and Sales Cluster\n"
   ]
  },
  {
   "cell_type": "code",
   "execution_count": 54,
   "metadata": {},
   "outputs": [
    {
     "name": "stdout",
     "output_type": "stream",
     "text": [
      "+----------+---+-------+--------------------+------------+---------+--------------+----+----+--------+----------+--------+------+\n",
      "|entry_date|pid| vendor|             product|retail_price|base_unit|origin_country|size| abv|quantity|total_sale|discount|profit|\n",
      "+----------+---+-------+--------------------+------------+---------+--------------+----+----+--------+----------+--------+------+\n",
      "|2020-01-01|144|AF Brew|AF Brew Zimnjaja ...|       280.0|   Pieces|        Russia|0.33|10.3|     1.0|     280.0|     0.0| 155.0|\n",
      "|2020-01-01|209|Pohjala|Pohjala Mutant Di...|       420.0|   Pieces|       Estonia|0.33| 6.8|     2.0|    545.73|  294.27| 75.73|\n",
      "|2020-01-01|213|Kerisac|Cider Kerisac Cid...|       650.0|   Pieces|        France| 1.0| 6.0|     2.0|   1265.05|   34.95|653.05|\n",
      "|2020-01-01|217| Savoie|Cider Savoie Cidr...|       870.0|   Pieces|        France|0.75| 4.5|     1.0|     800.0|    70.0| 220.5|\n",
      "|2020-01-01|222| Bellot|Cider Bellot Cidr...|       770.0|   Pieces|        France|0.75| 5.0|     2.0|   1344.75|  195.25|393.75|\n",
      "+----------+---+-------+--------------------+------------+---------+--------------+----+----+--------+----------+--------+------+\n",
      "only showing top 5 rows\n",
      "\n"
     ]
    }
   ],
   "source": [
    "sales_df.show(5)"
   ]
  },
  {
   "cell_type": "code",
   "execution_count": 55,
   "metadata": {},
   "outputs": [],
   "source": [
    "from pyspark.ml.clustering import KMeans\n",
    "from pyspark.ml.feature import VectorAssembler"
   ]
  },
  {
   "cell_type": "code",
   "execution_count": 56,
   "metadata": {},
   "outputs": [],
   "source": [
    "beer_data = sales_df\\\n",
    "    .filter(col('profit').isNotNull())\\\n",
    "    .groupBy('product')\\\n",
    "    .agg(sum(\"total_sale\").alias(\"total_sale\"), sum(\"profit\").alias(\"profit\"))"
   ]
  },
  {
   "cell_type": "code",
   "execution_count": 57,
   "metadata": {},
   "outputs": [],
   "source": [
    "feature_columns = ['total_sale', 'profit']\n",
    "assembler = VectorAssembler(inputCols = feature_columns, outputCol = 'features')\n",
    "transformed_data = assembler.transform(beer_data)"
   ]
  },
  {
   "cell_type": "code",
   "execution_count": 58,
   "metadata": {},
   "outputs": [
    {
     "name": "stderr",
     "output_type": "stream",
     "text": [
      "24/01/06 17:43:52 WARN InstanceBuilder: Failed to load implementation from:dev.ludovic.netlib.blas.JNIBLAS\n"
     ]
    }
   ],
   "source": [
    "kmeans = KMeans( k=4 , seed = 42 , featuresCol = \"features\")\n",
    "model = kmeans.fit(transformed_data)"
   ]
  },
  {
   "cell_type": "code",
   "execution_count": 59,
   "metadata": {},
   "outputs": [
    {
     "name": "stdout",
     "output_type": "stream",
     "text": [
      "+--------------------+-----------------+------------------+--------------------+----------+\n",
      "|             product|       total_sale|            profit|            features|prediction|\n",
      "+--------------------+-----------------+------------------+--------------------+----------+\n",
      "|Le Cidre De Foues...|          2549.64|            809.64|    [2549.64,809.64]|         0|\n",
      "|De Molen Heaven &...|              0.0|            -297.5|        [0.0,-297.5]|         0|\n",
      "|Lindemans Cassis ...|70047.21999999999|24337.220000000005|[70047.2199999999...|         0|\n",
      "|Amundsen Apacalyp...|          1479.58|309.58000000000004|[1479.58,309.5800...|         0|\n",
      "|Jaws Singularity ...|8792.580000000002|           4420.68|[8792.58000000000...|         0|\n",
      "+--------------------+-----------------+------------------+--------------------+----------+\n",
      "only showing top 5 rows\n",
      "\n"
     ]
    }
   ],
   "source": [
    "predictions = model.transform(transformed_data)\n",
    "predictions.show(5)"
   ]
  },
  {
   "cell_type": "code",
   "execution_count": 60,
   "metadata": {},
   "outputs": [
    {
     "data": {
      "text/html": [
       "<div>\n",
       "<style scoped>\n",
       "    .dataframe tbody tr th:only-of-type {\n",
       "        vertical-align: middle;\n",
       "    }\n",
       "\n",
       "    .dataframe tbody tr th {\n",
       "        vertical-align: top;\n",
       "    }\n",
       "\n",
       "    .dataframe thead th {\n",
       "        text-align: right;\n",
       "    }\n",
       "</style>\n",
       "<table border=\"1\" class=\"dataframe\">\n",
       "  <thead>\n",
       "    <tr style=\"text-align: right;\">\n",
       "      <th></th>\n",
       "      <th>prediction</th>\n",
       "      <th>total_sale</th>\n",
       "      <th>profit</th>\n",
       "    </tr>\n",
       "  </thead>\n",
       "  <tbody>\n",
       "    <tr>\n",
       "      <th>0</th>\n",
       "      <td>0</td>\n",
       "      <td>2549.64</td>\n",
       "      <td>809.64</td>\n",
       "    </tr>\n",
       "    <tr>\n",
       "      <th>1</th>\n",
       "      <td>0</td>\n",
       "      <td>0.00</td>\n",
       "      <td>-297.50</td>\n",
       "    </tr>\n",
       "    <tr>\n",
       "      <th>2</th>\n",
       "      <td>0</td>\n",
       "      <td>70047.22</td>\n",
       "      <td>24337.22</td>\n",
       "    </tr>\n",
       "    <tr>\n",
       "      <th>3</th>\n",
       "      <td>0</td>\n",
       "      <td>1479.58</td>\n",
       "      <td>309.58</td>\n",
       "    </tr>\n",
       "    <tr>\n",
       "      <th>4</th>\n",
       "      <td>0</td>\n",
       "      <td>8792.58</td>\n",
       "      <td>4420.68</td>\n",
       "    </tr>\n",
       "    <tr>\n",
       "      <th>...</th>\n",
       "      <td>...</td>\n",
       "      <td>...</td>\n",
       "      <td>...</td>\n",
       "    </tr>\n",
       "    <tr>\n",
       "      <th>3920</th>\n",
       "      <td>0</td>\n",
       "      <td>10152.82</td>\n",
       "      <td>4777.82</td>\n",
       "    </tr>\n",
       "    <tr>\n",
       "      <th>3921</th>\n",
       "      <td>0</td>\n",
       "      <td>10714.46</td>\n",
       "      <td>4444.46</td>\n",
       "    </tr>\n",
       "    <tr>\n",
       "      <th>3922</th>\n",
       "      <td>0</td>\n",
       "      <td>4480.19</td>\n",
       "      <td>1960.19</td>\n",
       "    </tr>\n",
       "    <tr>\n",
       "      <th>3923</th>\n",
       "      <td>0</td>\n",
       "      <td>15898.41</td>\n",
       "      <td>7313.61</td>\n",
       "    </tr>\n",
       "    <tr>\n",
       "      <th>3924</th>\n",
       "      <td>0</td>\n",
       "      <td>1710.49</td>\n",
       "      <td>494.49</td>\n",
       "    </tr>\n",
       "  </tbody>\n",
       "</table>\n",
       "<p>3925 rows × 3 columns</p>\n",
       "</div>"
      ],
      "text/plain": [
       "      prediction  total_sale    profit\n",
       "0              0     2549.64    809.64\n",
       "1              0        0.00   -297.50\n",
       "2              0    70047.22  24337.22\n",
       "3              0     1479.58    309.58\n",
       "4              0     8792.58   4420.68\n",
       "...          ...         ...       ...\n",
       "3920           0    10152.82   4777.82\n",
       "3921           0    10714.46   4444.46\n",
       "3922           0     4480.19   1960.19\n",
       "3923           0    15898.41   7313.61\n",
       "3924           0     1710.49    494.49\n",
       "\n",
       "[3925 rows x 3 columns]"
      ]
     },
     "execution_count": 60,
     "metadata": {},
     "output_type": "execute_result"
    }
   ],
   "source": [
    "predictions_pd = predictions.select(\"prediction\", \"total_sale\", \"profit\").toPandas()\n",
    "predictions_pd"
   ]
  },
  {
   "cell_type": "code",
   "execution_count": 61,
   "metadata": {},
   "outputs": [
    {
     "data": {
      "image/png": "[encoded data removed]",
      "text/plain": [
       "<Figure size 640x480 with 1 Axes>"
      ]
     },
     "metadata": {},
     "output_type": "display_data"
    }
   ],
   "source": [
    "plt.scatter(predictions_pd[\"total_sale\"],predictions_pd[\"profit\"],\n",
    "           c = predictions_pd[\"prediction\"], cmap = 'viridis' )\n",
    "plt.xlabel(\"total_sale\")\n",
    "plt.ylabel(\"profit\")\n",
    "plt.title(\"K-means Clustering of Beer Products\")\n",
    "plt.show()"
   ]
  },
  {
   "cell_type": "code",
   "execution_count": 62,
   "metadata": {},
   "outputs": [],
   "source": [
    "save_df = predictions.drop('features')\n",
    "# save_df.coalesce(1).write.csv(\"output/clustering\", header = True)"
   ]
  },
  {
   "cell_type": "code",
   "execution_count": 63,
   "metadata": {},
   "outputs": [],
   "source": [
    "spark.stop()"
   ]
  }
 ],
 "metadata": {
  "kernelspec": {
   "display_name": "Python 3",
   "language": "python",
   "name": "python3"
  },
  "language_info": {
   "codemirror_mode": {
    "name": "ipython",
    "version": 3
   },
   "file_extension": ".py",
   "mimetype": "text/x-python",
   "name": "python",
   "nbconvert_exporter": "python",
   "pygments_lexer": "ipython3",
   "version": "3.10.12"
  }
 },
 "nbformat": 4,
 "nbformat_minor": 2
}
